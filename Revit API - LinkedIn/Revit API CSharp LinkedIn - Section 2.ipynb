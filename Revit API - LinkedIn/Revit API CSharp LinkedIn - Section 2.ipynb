{
 "cells": [
  {
   "cell_type": "markdown",
   "metadata": {},
   "source": [
    "Section 2 - Working with Revit elements"
   ]
  },
  {
   "cell_type": "markdown",
   "metadata": {},
   "source": [
    "2.1 Classifying elements"
   ]
  },
  {
   "cell_type": "raw",
   "metadata": {},
   "source": [
    "All objects in Revit are derived from a base class called elements. \n",
    "\n",
    "They can be categorised as below. \n",
    "\n",
    "[Revit project] > [Elements] > [Category, Family, Symbol, instance]"
   ]
  },
  {
   "cell_type": "raw",
   "metadata": {},
   "source": [
    "Category - Describes the group of element types that the element is associated with. i.e. all walls to that category. BuiltInCategory has associated BuiltInCategory enumeration. \n",
    "\n",
    "Family - Elements can be group by the family they belong to. Can be a system family or component family. \n",
    "\n",
    "Symbol - A family is represented by a set of different familt symbols. They have their own set of settings. These are refered to as family types in the UI. And derive from ElementType class in the Revit API\n",
    "\n",
    "Instance - An instance of a particular family symbol."
   ]
  },
  {
   "cell_type": "raw",
   "metadata": {},
   "source": [
    "Search the object browser for getelement\n",
    "\n",
    "Autodesk.Revit.DB.Document.GetElement(Autodesk.Revit.DB.ElementId)"
   ]
  },
  {
   "cell_type": "markdown",
   "metadata": {},
   "source": [
    "2.2 Retrieving element information"
   ]
  },
  {
   "cell_type": "raw",
   "metadata": {},
   "source": [
    "In this lesson we got the category, family, symbol and instance. \n",
    "\n",
    "                //Get element type (Added 2.2)\n",
    "                ElementId eTypeId = ele.GetTypeId();\n",
    "                ElementType eType = doc.GetElement(eTypeId) as ElementType;\n",
    "\n",
    "\n",
    "                //Display element Id\n",
    "                if (pickedObj != null)\n",
    "                {\n",
    "                    //Show information (Amended 2.2)\n",
    "                    TaskDialog.Show(\"Element classification\", eleId.ToString() + Environment.NewLine\n",
    "                        + \"Category: \" + ele.Category.Name + Environment.NewLine\n",
    "                        + \"Instance: \" + ele.Name + Environment.NewLine\n",
    "                        + \"Symbol: \" + eType.Name + Environment.NewLine\n",
    "                        + \"Family: \" + eType.FamilyName);\n",
    "                }"
   ]
  },
  {
   "cell_type": "markdown",
   "metadata": {},
   "source": [
    "2.3 Filtered element collector"
   ]
  },
  {
   "cell_type": "raw",
   "metadata": {},
   "source": [
    "To filter the elements in a document we use a FilteredElementCollector. Created to search through all elements in a project. \n",
    "\n",
    "This can be applied in 3 different ways. \n",
    "\n",
    "Search the entire Revit document  - FilteredElementCollector(Document)\n",
    "Search through a specific set of elements - FilteredElementCollector(Document,ElementIds)\n",
    "search a specific view - FilteredElementCollector(Document,View)\n",
    "\n",
    "Collector(Document) + Filter = Set of elements\n",
    "\n",
    "It requires at least one filter before we can start accessing the elements. filter is used to check if it meets a certain criteria. e.g. checking if a element is of a certain category of family type. \n",
    "\n"
   ]
  },
  {
   "cell_type": "markdown",
   "metadata": {},
   "source": [
    "2.4 Creating a collector"
   ]
  },
  {
   "cell_type": "markdown",
   "metadata": {},
   "source": [
    "2.5 Transactions"
   ]
  },
  {
   "cell_type": "markdown",
   "metadata": {},
   "source": [
    "2.6 Modifying elements"
   ]
  },
  {
   "cell_type": "markdown",
   "metadata": {},
   "source": [
    "2.7 Creating families"
   ]
  },
  {
   "cell_type": "markdown",
   "metadata": {},
   "source": [
    "2.8 Querying FilteredElementCollector"
   ]
  },
  {
   "cell_type": "markdown",
   "metadata": {},
   "source": [
    "2.9 Creating line-based elements"
   ]
  },
  {
   "cell_type": "markdown",
   "metadata": {},
   "source": [
    "2.10 Creating loop elements"
   ]
  },
  {
   "cell_type": "markdown",
   "metadata": {},
   "source": [
    "2.11 Get parameter"
   ]
  },
  {
   "cell_type": "markdown",
   "metadata": {},
   "source": [
    "2.12 Parameter values"
   ]
  },
  {
   "cell_type": "markdown",
   "metadata": {},
   "source": [
    "2.13 Chapter quiz"
   ]
  },
  {
   "cell_type": "code",
   "execution_count": null,
   "metadata": {},
   "outputs": [],
   "source": []
  }
 ],
 "metadata": {
  "kernelspec": {
   "display_name": "Python 3",
   "language": "python",
   "name": "python3"
  },
  "language_info": {
   "codemirror_mode": {
    "name": "ipython",
    "version": 3
   },
   "file_extension": ".py",
   "mimetype": "text/x-python",
   "name": "python",
   "nbconvert_exporter": "python",
   "pygments_lexer": "ipython3",
   "version": "3.8.5"
  }
 },
 "nbformat": 4,
 "nbformat_minor": 4
}

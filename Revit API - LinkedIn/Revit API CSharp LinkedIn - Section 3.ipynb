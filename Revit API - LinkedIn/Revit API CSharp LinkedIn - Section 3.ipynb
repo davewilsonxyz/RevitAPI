{
 "cells": [
  {
   "cell_type": "markdown",
   "metadata": {},
   "source": [
    "#### Section 3 - Element geometry or editing elements"
   ]
  },
  {
   "cell_type": "markdown",
   "metadata": {},
   "source": [
    "#### 3.1 Element locations"
   ]
  },
  {
   "cell_type": "raw",
   "metadata": {},
   "source": [
    "//Added 3.1\n",
    "    [TransactionAttribute(TransactionMode.Manual)]\n",
    "    public class ChangeLocation : IExternalCommand\n",
    "    {\n",
    "        public Result Execute(ExternalCommandData commandData, ref string message, ElementSet elements)\n",
    "        {\n",
    "            //Get UIDocument and Document\n",
    "            UIDocument uidoc = commandData.Application.ActiveUIDocument;\n",
    "            Document doc = uidoc.Document;\n",
    "\n",
    "            try\n",
    "            {\n",
    "                //Pick Object\n",
    "                Reference pickedObj = uidoc.Selection.PickObject(Autodesk.Revit.UI.Selection.ObjectType.Element);\n",
    "\n",
    "                //Display Element Id\n",
    "                if (pickedObj != null)\n",
    "                {\n",
    "                    //Retrieve Element\n",
    "                    ElementId eleId = pickedObj.ElementId;\n",
    "                    Element ele = doc.GetElement(eleId);\n",
    "\n",
    "                    using (Transaction trans = new Transaction(doc, \"Change Location\"))\n",
    "                    {\n",
    "                        \n",
    "\n",
    "                        //Set Location\n",
    "                        LocationPoint locp = ele.Location as LocationPoint;\n",
    "\n",
    "                        if(locp != null)\n",
    "                        {\n",
    "                            trans.Start();\n",
    "                            XYZ loc = locp.Point;\n",
    "                            XYZ newloc = new XYZ(loc.X +3, loc.Y, loc.Z);\n",
    "                            locp.Point = newloc;\n",
    "                            trans.Commit();\n",
    "                        }\n",
    "\n",
    "\n",
    "                        \n",
    "                    }\n",
    "                }\n",
    "\n",
    "                return Result.Succeeded;\n",
    "            }\n",
    "            catch (Exception e)\n",
    "            {\n",
    "                message = e.Message;\n",
    "                return Result.Failed;\n",
    "            }\n",
    "\n",
    "        }\n",
    "    }"
   ]
  },
  {
   "cell_type": "raw",
   "metadata": {},
   "source": [
    "what does the above code do?"
   ]
  },
  {
   "cell_type": "raw",
   "metadata": {},
   "source": [
    "what dont I understand about the above code? Look at the docs. Go back over the video. "
   ]
  },
  {
   "cell_type": "markdown",
   "metadata": {},
   "source": [
    "3.2 Editing methods"
   ]
  },
  {
   "cell_type": "raw",
   "metadata": {},
   "source": [
    "//Added 3.2\n",
    "    [TransactionAttribute(TransactionMode.Manual)]\n",
    "    public class EditElement : IExternalCommand\n",
    "    {\n",
    "        public Result Execute(ExternalCommandData commandData, ref string message, ElementSet elements)\n",
    "        {\n",
    "            //Get UIDocument and Document\n",
    "            UIDocument uidoc = commandData.Application.ActiveUIDocument;\n",
    "            Document doc = uidoc.Document;\n",
    "\n",
    "            try\n",
    "            {\n",
    "                //Pick Object\n",
    "                Reference pickedObj = uidoc.Selection.PickObject(Autodesk.Revit.UI.Selection.ObjectType.Element);\n",
    "\n",
    "                //Display Element Id\n",
    "                if (pickedObj != null)\n",
    "                {\n",
    "                    //Retrieve Element\n",
    "                    ElementId eleId = pickedObj.ElementId;\n",
    "                    Element ele = doc.GetElement(eleId);\n",
    "\n",
    "                    using (Transaction trans = new Transaction(doc, \"Edit Elements\"))\n",
    "                    {\n",
    "                        trans.Start();\n",
    "\n",
    "                        //Move Element\n",
    "                        XYZ moveVec = new XYZ(3, 3, 0);\n",
    "                        ElementTransformUtils.MoveElement(doc, eleId, moveVec);\n",
    "                       \n",
    "                        //Rotate Element\n",
    "                        LocationPoint location = ele.Location as LocationPoint;\n",
    "                        XYZ p1 = location.Point;\n",
    "                        XYZ p2 = new XYZ(p1.X, p1.Y, p1.Z + 10);\n",
    "                        Line axis = Line.CreateBound(p1, p2);\n",
    "                        double angle = 30 * (Math.PI/180);\n",
    "                        ElementTransformUtils.RotateElement(doc, eleId,axis,angle);\n",
    "\n",
    "                        trans.Commit();\n",
    "                    }\n",
    "                }\n",
    "                return Result.Succeeded;\n",
    "            }\n",
    "            catch (Exception e)\n",
    "            {\n",
    "                message = e.Message;\n",
    "                return Result.Failed;\n",
    "            }\n",
    "        }\n",
    "    }"
   ]
  },
  {
   "cell_type": "raw",
   "metadata": {},
   "source": [
    "what does the above code do?"
   ]
  },
  {
   "cell_type": "raw",
   "metadata": {},
   "source": [
    "what dont I understand about the above code? Look at the docs. Go back over the video. "
   ]
  },
  {
   "cell_type": "markdown",
   "metadata": {},
   "source": [
    "3.3 Revit geometry basics"
   ]
  },
  {
   "cell_type": "raw",
   "metadata": {},
   "source": [
    "Review this video. What was discussed."
   ]
  },
  {
   "cell_type": "raw",
   "metadata": {},
   "source": []
  },
  {
   "cell_type": "markdown",
   "metadata": {},
   "source": [
    "3.4 Traversing geometry"
   ]
  },
  {
   "cell_type": "raw",
   "metadata": {},
   "source": [
    "//Added 3.4\n",
    "    [TransactionAttribute(TransactionMode.ReadOnly)]\n",
    "    public class SelectGeometry : IExternalCommand\n",
    "    {\n",
    "        public Result Execute(ExternalCommandData commandData, ref string message, ElementSet elements)\n",
    "        {\n",
    "            //Get UIDocument and Document\n",
    "            UIDocument uidoc = commandData.Application.ActiveUIDocument;\n",
    "            Document doc = uidoc.Document;\n",
    "\n",
    "            try\n",
    "            {\n",
    "                //Pick Object\n",
    "                Reference pickedObj = uidoc.Selection.PickObject(Autodesk.Revit.UI.Selection.ObjectType.Element);\n",
    "\n",
    "                if (pickedObj != null)\n",
    "                {\n",
    "                    //Retrieve Element\n",
    "                    ElementId eleId = pickedObj.ElementId;\n",
    "                    Element ele = doc.GetElement(eleId);\n",
    "\n",
    "                    //Get Geometry\n",
    "                    Options gOptions = new Options();\n",
    "                    gOptions.DetailLevel = ViewDetailLevel.Fine;\n",
    "                    GeometryElement geom = ele.get_Geometry(gOptions);\n",
    "\n",
    "                    //Traverse Geometry\n",
    "                    foreach (GeometryObject gObj in geom)\n",
    "                    {\n",
    "                        Solid gSolid = gObj as Solid;\n",
    "\n",
    "                        int faces = 0; \n",
    "                        double area = 0.0;\n",
    "\n",
    "                        foreach (Face gFace in gSolid.Faces)\n",
    "                        {\n",
    "                            area += gFace.Area;\n",
    "                            faces++;\n",
    "                        }\n",
    "\n",
    "                        area = UnitUtils.ConvertFromInternalUnits(area, DisplayUnitType.DUT_SQUARE_METERS);\n",
    "                        TaskDialog.Show(\"Geometry\", String.Format(\"Number of faces {0}\" + Environment.NewLine + \"Total area {1}\", faces, area));\n",
    "\n",
    "                    }\n",
    "\n",
    "\n",
    "                }\n",
    "\n",
    "                return Result.Succeeded;\n",
    "            }\n",
    "            catch (Exception e)\n",
    "            {\n",
    "                message = e.Message;\n",
    "                return Result.Failed;\n",
    "            }\n",
    "\n",
    "        }\n",
    "    }"
   ]
  },
  {
   "cell_type": "raw",
   "metadata": {},
   "source": [
    "What does the above code do?"
   ]
  },
  {
   "cell_type": "raw",
   "metadata": {},
   "source": [
    "what dont I understand about the above code? Look at the docs. Go back over the video. "
   ]
  },
  {
   "cell_type": "raw",
   "metadata": {},
   "source": []
  },
  {
   "cell_type": "markdown",
   "metadata": {},
   "source": [
    "3.5 Intersecting geometry"
   ]
  },
  {
   "cell_type": "raw",
   "metadata": {},
   "source": [
    "//Added 3.5\n",
    "    [TransactionAttribute(TransactionMode.ReadOnly)]\n",
    "    public class ElementIntersection : IExternalCommand\n",
    "    {\n",
    "        public Result Execute(ExternalCommandData commandData, ref string message, ElementSet elements)\n",
    "        {\n",
    "            //Get UIDocument and Document\n",
    "            UIDocument uidoc = commandData.Application.ActiveUIDocument;\n",
    "            Document doc = uidoc.Document;\n",
    "\n",
    "            try\n",
    "            {\n",
    "                //Pick Object\n",
    "                Reference pickedObj = uidoc.Selection.PickObject(Autodesk.Revit.UI.Selection.ObjectType.Element);\n",
    "\n",
    "                if (pickedObj != null)\n",
    "                {\n",
    "                    //Retrieve Element\n",
    "                    ElementId eleId = pickedObj.ElementId;\n",
    "                    Element ele = doc.GetElement(eleId);\n",
    "\n",
    "                    //Get Geometry\n",
    "                    Options gOptions = new Options();\n",
    "                    gOptions.DetailLevel = ViewDetailLevel.Fine;\n",
    "                    GeometryElement geom = ele.get_Geometry(gOptions);\n",
    "\n",
    "                    Solid gSolid = null;\n",
    "\n",
    "                    //Traverse Geometry\n",
    "                    foreach (GeometryObject gObj in geom)\n",
    "                    {\n",
    "\n",
    "                        GeometryInstance gInst = gObj as GeometryInstance;\n",
    "\n",
    "                        if(gInst != null)\n",
    "                        {\n",
    "                            GeometryElement gEle = gInst.GetInstanceGeometry();\n",
    "                            foreach (GeometryObject gO in gEle)\n",
    "                            {\n",
    "                                gSolid = gO as Solid;\n",
    "                            }\n",
    "\n",
    "                        }\n",
    "\n",
    "\n",
    "                    }\n",
    "\n",
    "                    //Filter for Intersection\n",
    "                    FilteredElementCollector collector = new FilteredElementCollector(doc);\n",
    "                    ElementIntersectsSolidFilter filter = new ElementIntersectsSolidFilter(gSolid);\n",
    "                    ICollection<ElementId> intersects =  collector.OfCategory(BuiltInCategory.OST_Roofs).WherePasses(filter).ToElementIds();\n",
    "\n",
    "                    uidoc.Selection.SetElementIds(intersects);\n",
    "\n",
    "                }\n",
    "\n",
    "                return Result.Succeeded;\n",
    "            }\n",
    "            catch (Exception e)\n",
    "            {\n",
    "                message = e.Message;\n",
    "                return Result.Failed;\n",
    "            }\n",
    "\n",
    "        }\n",
    "    }"
   ]
  },
  {
   "cell_type": "raw",
   "metadata": {},
   "source": [
    "What does the above code do?"
   ]
  },
  {
   "cell_type": "raw",
   "metadata": {},
   "source": [
    "what dont I understand about the above code? Look at the docs. Go back over the video. "
   ]
  },
  {
   "cell_type": "markdown",
   "metadata": {},
   "source": [
    "3.6 Projecting rays"
   ]
  },
  {
   "cell_type": "raw",
   "metadata": {},
   "source": [
    " //Added 3.6 \n",
    "    [TransactionAttribute(TransactionMode.ReadOnly)]\n",
    "    public class ProjectRay : IExternalCommand\n",
    "    {\n",
    "        public Result Execute(ExternalCommandData commandData, ref string message, ElementSet elements)\n",
    "        {\n",
    "            //Get UIDocument and Document\n",
    "            UIDocument uidoc = commandData.Application.ActiveUIDocument;\n",
    "            Document doc = uidoc.Document;\n",
    "\n",
    "            try\n",
    "            {\n",
    "                //Pick Object\n",
    "                Reference pickedObj = uidoc.Selection.PickObject(Autodesk.Revit.UI.Selection.ObjectType.Element);\n",
    "\n",
    "                if (pickedObj != null)\n",
    "                {\n",
    "                    //Retrieve Element\n",
    "                    ElementId eleId = pickedObj.ElementId;\n",
    "                    Element ele = doc.GetElement(eleId);\n",
    "\n",
    "                    //Project Ray\n",
    "                    LocationPoint locP = ele.Location as LocationPoint;\n",
    "                    XYZ p1 = locP.Point;\n",
    "\n",
    "                    //Ray\n",
    "                    XYZ rayd = new XYZ(0, 0, 1);\n",
    "\n",
    "                    ElementCategoryFilter filter = new ElementCategoryFilter(BuiltInCategory.OST_Roofs);\n",
    "                    ReferenceIntersector refI = new ReferenceIntersector(filter, FindReferenceTarget.Face, (View3D)doc.ActiveView);\n",
    "                    ReferenceWithContext refC = refI.FindNearest(p1, rayd);\n",
    "                    Reference reference = refC.GetReference();\n",
    "                    XYZ intPoint = reference.GlobalPoint;\n",
    "                    double dist = p1.DistanceTo(intPoint);\n",
    "\n",
    "                    TaskDialog.Show(\"Ray\", string.Format(\"Distance to roof {0}\", dist));\n",
    "\n",
    "                }\n",
    "\n",
    "                return Result.Succeeded;\n",
    "            }\n",
    "            catch (Exception e)\n",
    "            {\n",
    "                message = e.Message;\n",
    "                return Result.Failed;\n",
    "            }\n",
    "\n",
    "        }\n",
    "    }"
   ]
  },
  {
   "cell_type": "raw",
   "metadata": {},
   "source": [
    "What does the above code do?"
   ]
  },
  {
   "cell_type": "raw",
   "metadata": {},
   "source": [
    "what dont I understand about the above code? Look at the docs. Go back over the video. "
   ]
  },
  {
   "cell_type": "markdown",
   "metadata": {},
   "source": [
    "3.7 Chapter quiz"
   ]
  },
  {
   "cell_type": "raw",
   "metadata": {},
   "source": [
    "What should I be looking at more from the questions on the quiz?"
   ]
  },
  {
   "cell_type": "code",
   "execution_count": null,
   "metadata": {},
   "outputs": [],
   "source": []
  }
 ],
 "metadata": {
  "kernelspec": {
   "display_name": "Python 3",
   "language": "python",
   "name": "python3"
  },
  "language_info": {
   "codemirror_mode": {
    "name": "ipython",
    "version": 3
   },
   "file_extension": ".py",
   "mimetype": "text/x-python",
   "name": "python",
   "nbconvert_exporter": "python",
   "pygments_lexer": "ipython3",
   "version": "3.8.5"
  }
 },
 "nbformat": 4,
 "nbformat_minor": 4
}

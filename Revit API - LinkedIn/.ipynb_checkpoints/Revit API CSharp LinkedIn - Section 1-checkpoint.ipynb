{
 "cells": [
  {
   "cell_type": "markdown",
   "metadata": {},
   "source": [
    "#### 1. Create a simple plugin"
   ]
  },
  {
   "cell_type": "markdown",
   "metadata": {},
   "source": [
    "1.1 The Revit API"
   ]
  },
  {
   "cell_type": "markdown",
   "metadata": {},
   "source": [
    "1.2 Viewing the Revit API"
   ]
  },
  {
   "cell_type": "markdown",
   "metadata": {},
   "source": [
    "1.3 Setting up VS"
   ]
  },
  {
   "cell_type": "raw",
   "metadata": {},
   "source": [
    "We will be using template Class Library(.NET Framework)\n",
    "\n",
    "For Revit 2019 we need to use the .NET Framework 4.7 this is different for other versions of Revit. Check this if working on a different version. "
   ]
  },
  {
   "cell_type": "markdown",
   "metadata": {},
   "source": [
    "1.4 Adding the API"
   ]
  },
  {
   "cell_type": "raw",
   "metadata": {},
   "source": [
    "Add the required references\n",
    "\n",
    "RevitAPI.dll [\"C:\\Program Files\\Autodesk\\Revit 2019\\RevitAPI.dll\"]\n",
    "RevitAPIUI.dll [\"C:\\Program Files\\Autodesk\\Revit 2019\\RevitAPIUI.dll\"]\n",
    "\n",
    "Set copy local to false in properties\n",
    "\n",
    "Use object browser to find methos in the dll. \n",
    "\n",
    "There is stuff like Autodesk.Revit.DB"
   ]
  },
  {
   "cell_type": "raw",
   "metadata": {},
   "source": [
    "Add common namespaces to the project. \n",
    "\n",
    "using Autodesk.Revit.DB;\n",
    "using Autodesk.Revit.UI;\n",
    "using Autodesk.Revit.Attributes;"
   ]
  },
  {
   "cell_type": "markdown",
   "metadata": {},
   "source": [
    "1.5 IExternalCommand"
   ]
  },
  {
   "cell_type": "raw",
   "metadata": {},
   "source": [
    "External Command allows for one piece of software to communicate with another by providing commands that the API translates to recive and send requests between both"
   ]
  },
  {
   "cell_type": "raw",
   "metadata": {},
   "source": [
    "Revit > plugin.dll > IExternalCommand > (back to) Revit"
   ]
  },
  {
   "cell_type": "raw",
   "metadata": {},
   "source": [
    "IExternalCommand has one method: Execute()\n",
    "\n",
    "it needs 3 parameters to run\n",
    "\n",
    "    Autodesk.Revit.UI.ExternalCommandData\n",
    "This is a reference to the Revit application/view\n",
    "\n",
    "    String\n",
    "Reference string returned if command fails or cancels\n",
    "\n",
    "    Autodesk.Revit.DB.ElementSet\n",
    " Reference to a set of elements to be returned"
   ]
  },
  {
   "cell_type": "raw",
   "metadata": {},
   "source": [
    "IExternalCommand returns a result;\n",
    "\n",
    "Autodesk.Revit.UI.Result.Succeeded\n",
    "Autodesk.Revit.UI.Result.Cancelled\n",
    "Autodesk.Revit.UI.Result.Failed"
   ]
  },
  {
   "cell_type": "markdown",
   "metadata": {},
   "source": [
    "1.6 Creating a command"
   ]
  },
  {
   "cell_type": "raw",
   "metadata": {},
   "source": [
    "Command will select a element and retrieve its element id"
   ]
  },
  {
   "cell_type": "raw",
   "metadata": {},
   "source": [
    "TIP:\n",
    "    Lightbult> Implement interface "
   ]
  },
  {
   "cell_type": "markdown",
   "metadata": {},
   "source": [
    "1.7 Accessing the application"
   ]
  },
  {
   "cell_type": "raw",
   "metadata": {},
   "source": [
    "Revit API > Application > Application (Application wide settings)\n",
    "                          UIApplication (Application UI properties)"
   ]
  },
  {
   "cell_type": "raw",
   "metadata": {},
   "source": [
    "Revit API > Document > Document (Project model elements)\n",
    "                       UIDocument (Project based interface properties)"
   ]
  },
  {
   "cell_type": "markdown",
   "metadata": {},
   "source": [
    "1.8 Selecting elements"
   ]
  },
  {
   "cell_type": "raw",
   "metadata": {},
   "source": [
    "using System;\n",
    "using System.Collections.Generic;\n",
    "using System.Linq;\n",
    "using System.Text;\n",
    "using System.Threading.Tasks;\n",
    "///Added as requires\n",
    "using Autodesk.Revit.DB;\n",
    "using Autodesk.Revit.UI;\n",
    "using Autodesk.Revit.Attributes;\n",
    "\n",
    "namespace MyRevitCommands\n",
    "{\n",
    "    //This transaction is needed\n",
    "    [TransactionAttribute(TransactionMode.ReadOnly)]\n",
    "    public class GetElementId : IExternalCommand\n",
    "    {\n",
    "        //This is the minimum required for a IExternalCommand\n",
    "        public Result Execute(ExternalCommandData commandData, ref string message, ElementSet elements)\n",
    "        {\n",
    "            //Get UI document\n",
    "            UIDocument uidoc = commandData.Application.ActiveUIDocument;\n",
    "\n",
    "            try\n",
    "            {\n",
    "                //Pick object\n",
    "                Reference pickedObj = uidoc.Selection.PickObject(Autodesk.Revit.UI.Selection.ObjectType.Element);\n",
    "\n",
    "                //Display element Id\n",
    "                if (pickedObj != null)\n",
    "                {\n",
    "                    TaskDialog.Show(\"Element Id\", pickedObj.ElementId.ToString());\n",
    "                }\n",
    "\n",
    "                //Either return succeeded, cancelled or failed\n",
    "                return Result.Succeeded;\n",
    "            }\n",
    "            catch (Exception e)\n",
    "            {\n",
    "                message = e.Message;\n",
    "                return Result.Failed;\n",
    "            }\n",
    "     \n",
    "        }\n",
    "    }\n",
    "}"
   ]
  },
  {
   "cell_type": "markdown",
   "metadata": {},
   "source": [
    "1.9 Registering addins"
   ]
  },
  {
   "cell_type": "raw",
   "metadata": {},
   "source": [
    "Create a manifest file\n",
    "\n",
    "***> add > new item > Application Manifest file > MyRevitCommands.addin\n",
    "\n",
    "Create a new GUID\n",
    "\n",
    "***tools > Create GUID > (option 6) replace GUID in manifest file\n",
    "\n",
    "<Guid(\"AB012DF5-1EC7-4B34-BD5E-40E71F16247C\")>\n",
    "\n",
    "You can add more tags to the manifest file if required"
   ]
  },
  {
   "cell_type": "raw",
   "metadata": {},
   "source": [
    "Manifest file MyRevitCommands.addin below"
   ]
  },
  {
   "cell_type": "raw",
   "metadata": {},
   "source": [
    "<?xml version=\"1.0\" encoding=\"utf-8\" standalone=\"no\"?>\n",
    "<RevitAddIns>\n",
    "\t<AddIn Type=\"Command\">\n",
    "\t\t<Name>MyRevitCommands</Name>\n",
    "\t\t<Assembly>MyRevitCommands.dll</Assembly>\n",
    "\t\t<AddInId>AB012DF5-1EC7-4B34-BD5E-40E71F16247C</AddInId>\n",
    "\t\t<FullClassName>MyRevitCommands.GetElementId</FullClassName>\n",
    "\t\t<Text>GetElementId</Text>\n",
    "\t\t<Description>Get the Id from an element</Description>\n",
    "\t\t<VendorId>DaveWilsonxyz</VendorId>\n",
    "\t\t<VendorDescription>ComputationalDesigner</VendorDescription>\n",
    "\t\t<VisibilityMode>NotVisibleWhenNoActiveDocument</VisibilityMode>\n",
    "\t</AddIn>\n",
    "</RevitAddIns>"
   ]
  },
  {
   "cell_type": "raw",
   "metadata": {},
   "source": [
    "***Note <right click> MyRevitCommands.addin > Copy to Output directory = False"
   ]
  },
  {
   "cell_type": "markdown",
   "metadata": {},
   "source": [
    "1.10 Compiling the code"
   ]
  },
  {
   "cell_type": "raw",
   "metadata": {},
   "source": [
    "Build > Build Solution (ctrl + shit + B)\n",
    "\n",
    "files in location > RevitAPI\\Revit API - LinkedIn\\MyRevitCommands\\bin\\Debug\\MyRevitCommands.dll\n",
    "\n",
    "they need to be added to the addins folder. \n",
    "\n",
    "C:\\ProgramData\\Autodesk\\Revit\\Addins\\20XX\n",
    "\n",
    "Or \n",
    "\n",
    "C:\\Users\\XXXX\\AppData\\Roaming\\Autodesk\\Revit\\Addins\\20XX\n",
    "\n",
    "Automate this process \n",
    "\n",
    "> project > MyRevitCommands Properties > Build Events > Edit POST build \n",
    "\n",
    "copy \"$(TargetDir)\".\"\" \"$(AppData)\\Autodesk\\Revit\\Addins\\2019\\\""
   ]
  },
  {
   "cell_type": "markdown",
   "metadata": {},
   "source": [
    "1.11 Debugging"
   ]
  },
  {
   "cell_type": "raw",
   "metadata": {},
   "source": [
    "Need to run in debug mode\n",
    "\n",
    "> debug > start external command > C:\\Program Files\\Autodesk\\Revit 2019\\Revit.exe\n",
    "\n",
    "Test the try catch statement by adding a break point and re-run debug\n",
    "This allows you to see what is happening the the program at that time and the elements properties"
   ]
  },
  {
   "cell_type": "markdown",
   "metadata": {},
   "source": [
    "1.12 Chapter quiz"
   ]
  },
  {
   "cell_type": "code",
   "execution_count": null,
   "metadata": {},
   "outputs": [],
   "source": []
  }
 ],
 "metadata": {
  "kernelspec": {
   "display_name": "Python 3",
   "language": "python",
   "name": "python3"
  },
  "language_info": {
   "codemirror_mode": {
    "name": "ipython",
    "version": 3
   },
   "file_extension": ".py",
   "mimetype": "text/x-python",
   "name": "python",
   "nbconvert_exporter": "python",
   "pygments_lexer": "ipython3",
   "version": "3.8.5"
  }
 },
 "nbformat": 4,
 "nbformat_minor": 4
}

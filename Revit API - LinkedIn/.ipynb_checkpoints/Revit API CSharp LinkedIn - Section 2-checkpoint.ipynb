{
 "cells": [
  {
   "cell_type": "markdown",
   "metadata": {},
   "source": [
    "#### Section 2 - Working with Revit elements"
   ]
  },
  {
   "cell_type": "markdown",
   "metadata": {},
   "source": [
    "#### 2.1 Classifying elements"
   ]
  },
  {
   "cell_type": "raw",
   "metadata": {},
   "source": [
    "All objects in Revit are derived from a base class called elements. \n",
    "\n",
    "They can be categorised as below. \n",
    "\n",
    "[Revit project] > [Elements] > [Category, Family, Symbol, instance]"
   ]
  },
  {
   "cell_type": "raw",
   "metadata": {},
   "source": [
    "Category - Describes the group of element types that the element is associated with. i.e. all walls to that category. BuiltInCategory has associated BuiltInCategory enumeration. \n",
    "\n",
    "Family - Elements can be group by the family they belong to. Can be a system family or component family. \n",
    "\n",
    "Symbol - A family is represented by a set of different familt symbols. They have their own set of settings. These are refered to as family types in the UI. And derive from ElementType class in the Revit API\n",
    "\n",
    "Instance - An instance of a particular family symbol."
   ]
  },
  {
   "cell_type": "raw",
   "metadata": {},
   "source": [
    "Search the object browser for getelement\n",
    "\n",
    "Autodesk.Revit.DB.Document.GetElement(Autodesk.Revit.DB.ElementId)"
   ]
  },
  {
   "cell_type": "markdown",
   "metadata": {},
   "source": [
    "2.2 Retrieving element information"
   ]
  },
  {
   "cell_type": "raw",
   "metadata": {},
   "source": [
    "In this lesson we got the category, family, symbol and instance. \n",
    "\n",
    "                //Get element type (Added 2.2)\n",
    "                ElementId eTypeId = ele.GetTypeId();\n",
    "                ElementType eType = doc.GetElement(eTypeId) as ElementType;\n",
    "\n",
    "\n",
    "                //Display element Id\n",
    "                if (pickedObj != null)\n",
    "                {\n",
    "                    //Show information (Amended 2.2)\n",
    "                    TaskDialog.Show(\"Element classification\", eleId.ToString() + Environment.NewLine\n",
    "                        + \"Category: \" + ele.Category.Name + Environment.NewLine\n",
    "                        + \"Instance: \" + ele.Name + Environment.NewLine\n",
    "                        + \"Symbol: \" + eType.Name + Environment.NewLine\n",
    "                        + \"Family: \" + eType.FamilyName);\n",
    "                }"
   ]
  },
  {
   "cell_type": "markdown",
   "metadata": {},
   "source": [
    "#### 2.3 Filtered element collector"
   ]
  },
  {
   "cell_type": "raw",
   "metadata": {},
   "source": [
    "To filter the elements in a document we use a FilteredElementCollector. Created to search through all elements in a project. \n",
    "\n",
    "This can be applied in 3 different ways. \n",
    "\n",
    "Search the entire Revit document  - FilteredElementCollector(Document)\n",
    "Search through a specific set of elements - FilteredElementCollector(Document,ElementIds)\n",
    "search a specific view - FilteredElementCollector(Document,View)\n",
    "\n",
    "Collector(Document) + Filter = Set of elements\n",
    "\n",
    "It requires at least one filter before we can start accessing the elements. filter is used to check if it meets a certain criteria. e.g. checking if a element is of a certain category of family type. \n",
    "\n",
    "3 types of filters that we can use quick, slow and logical.\n",
    "\n",
    "Quick - applies to any filter object the inherits from the ElementQuickFilter class. Only checks basic element information. Can be used with shorcuts OfCategory(), OfCategoryId(), OfClass(), WhereLementIsNotElementType() and WhereElementIsType()\n",
    "\n",
    "Slow - Inherits from the ElementSlowFilterClass. Checks more detailed information. No shortcuts and best combined with quick filters. \n",
    "\n",
    "\n",
    "Logical - Inherits from the ElementLogicalFilterClass. Inherited by LogicalAndFilter and LogicalOrFilter. Combines fast and slow filters. Work like logical operators work. \n",
    "\n",
    "Applying filters ----\n",
    "\n",
    "WherePasses method \n",
    "> FilteredElementCollector.WherePasses(Filter)\n",
    "\n",
    "Shortcut method\n",
    "> FilterElementCollector.OfClass(Class)\n",
    "\n",
    "Combining \n",
    "> FilteredElementCollector.OfClass(Class).WherePasses(Filter)\n",
    "> FilteredElementCollector.WherePasses(LogicalAndFilter)"
   ]
  },
  {
   "cell_type": "raw",
   "metadata": {},
   "source": [
    "Collecting elements\n",
    "\n",
    "ToElements() - Collects all elements that pass through the filter. \n",
    "FirstElement() - Collects the first element that passes through the filter. \n",
    "\n",
    "Collect element IDs\n",
    "\n",
    "ToElementIds() - Collects all IDs of elements that pass through filter. \n",
    "FirstElementIds() - Collects the ID of the first element that passes through the filter"
   ]
  },
  {
   "cell_type": "raw",
   "metadata": {},
   "source": [
    "??? Why would I want the ID over the actual element. From the element can I get everything I needs. with the Id wouldnt I need to get the element anyways? "
   ]
  },
  {
   "cell_type": "markdown",
   "metadata": {},
   "source": [
    "#### 2.4 Creating a collector"
   ]
  },
  {
   "cell_type": "raw",
   "metadata": {},
   "source": [
    "******In object browser add RevitAPI.dll and RevitAPIUI.dll to a custom component set to get the derived types"
   ]
  },
  {
   "cell_type": "raw",
   "metadata": {},
   "source": [
    " [TransactionAttribute(TransactionMode.ReadOnly)]\n",
    "    public class CollectWindows : IExternalCommand\n",
    "    {\n",
    "        //This is the minimum required for a IExternalCommand\n",
    "        public Result Execute(ExternalCommandData commandData, ref string message, ElementSet elements)\n",
    "        {\n",
    "            //Get UI document\n",
    "            UIDocument uidoc = commandData.Application.ActiveUIDocument;\n",
    "\n",
    "            //Get document\n",
    "            Document doc = uidoc.Document;\n",
    "\n",
    "            //Create Filtered Element Collector (2.4) Im filtering the document but what else can I filter?\n",
    "            FilteredElementCollector collector = new FilteredElementCollector(doc);\n",
    "\n",
    "            //Create Filter (2.4)\n",
    "            ElementCategoryFilter filter = new ElementCategoryFilter(BuiltInCategory.OST_Windows);\n",
    "\n",
    "            //Apply filter (2.4)\n",
    "            IList<Element> windows =  collector.WherePasses(filter).WhereElementIsNotElementType().ToElements();\n",
    "            \n",
    "            //Dialog (2.4)\n",
    "            TaskDialog.Show(\"Windows\", string.Format(\"{0} windows counted\", windows.Count));\n",
    "            \n",
    "            return Result.Succeeded;\n",
    "\n",
    "        }\n",
    "    }"
   ]
  },
  {
   "cell_type": "markdown",
   "metadata": {},
   "source": [
    "2.5 Transactions"
   ]
  },
  {
   "cell_type": "raw",
   "metadata": {},
   "source": [
    "To make changes to the model you need to use a transaction. \n",
    "\n",
    "Any model change needs to be encapsulated inside of a Revit transaction. \n",
    "\n",
    "Create a transaction by using the transaction class. Offers a few different methods for controlling a transaction. \n",
    "\n",
    "Start() - Starts a transaction\n",
    "Commit() - Commits any changes in a transaction back to a model. \n",
    "Rollback() - Reverts any changes made in a model inside a transaction. i.e. before the transaction was started. \n",
    "\n",
    "ONLY ONE TRANSACTION CAN BE ACTIVE AT ONE TIME. \n",
    "\n"
   ]
  },
  {
   "cell_type": "markdown",
   "metadata": {},
   "source": [
    "2.6 Modifying elements"
   ]
  },
  {
   "cell_type": "raw",
   "metadata": {},
   "source": [
    "[TransactionAttribute(TransactionMode.Manual)]\n",
    "    public class DeleteElement : IExternalCommand\n",
    "    {\n",
    "        //This is the minimum required for a IExternalCommand\n",
    "        public Result Execute(ExternalCommandData commandData, ref string message, ElementSet elements)\n",
    "        {\n",
    "            //Get UI document\n",
    "            UIDocument uidoc = commandData.Application.ActiveUIDocument;\n",
    "\n",
    "            //Get document\n",
    "            Document doc = uidoc.Document;\n",
    "\n",
    "            try\n",
    "            {\n",
    "                //Pick object (Added 2.5)\n",
    "                Reference pickedObj = uidoc.Selection.PickObject(Autodesk.Revit.UI.Selection.ObjectType.Element);\n",
    "\n",
    "                //Delete element (Added 2.5)\n",
    "                if (pickedObj != null)\n",
    "                {\n",
    "                    using (Transaction trans = new Transaction(doc, \"Delete Element\"))\n",
    "                    {\n",
    "                        trans.Start();\n",
    "                        doc.Delete(pickedObj.ElementId);\n",
    "\n",
    "                        TaskDialog tDialog = new TaskDialog(\"Delete Element\");\n",
    "                        tDialog.MainContent = \"Are you sure you want to delete this element?\";\n",
    "                        tDialog.CommonButtons = TaskDialogCommonButtons.Ok | TaskDialogCommonButtons.Cancel;\n",
    "\n",
    "                        if(tDialog.Show() == TaskDialogResult.Ok)\n",
    "                        {\n",
    "                            trans.Commit();\n",
    "                            TaskDialog.Show(\"Delete\", pickedObj.ElementId.ToString() + \" deleted\");\n",
    "\n",
    "                        }\n",
    "                        else\n",
    "                        {\n",
    "                            trans.RollBack();\n",
    "                            TaskDialog.Show(\"Delete\", pickedObj.ElementId.ToString() + \" not deleted\");\n",
    "                        }\n",
    "                    }\n",
    "                }\n",
    "\n",
    "                return Result.Succeeded;\n",
    "            }\n",
    "            catch(Exception e)\n",
    "            {\n",
    "                message = e.Message;\n",
    "                return Result.Failed;\n",
    "            }\n",
    "\n",
    "        }\n",
    "    }"
   ]
  },
  {
   "cell_type": "markdown",
   "metadata": {},
   "source": [
    "2.7 Creating families"
   ]
  },
  {
   "cell_type": "raw",
   "metadata": {},
   "source": [
    "    [TransactionAttribute(TransactionMode.Manual)]\n",
    "    public class PlaceFamily : IExternalCommand\n",
    "    {\n",
    "        public Result Execute(ExternalCommandData commandData, ref string message, ElementSet elements)\n",
    "        {\n",
    "            //Get UIDocument\n",
    "            UIDocument uidoc = commandData.Application.ActiveUIDocument;\n",
    "\n",
    "            //Get Document\n",
    "            Document doc = uidoc.Document;\n",
    "\n",
    "            //Get Family Symbol\n",
    "            FilteredElementCollector collector = new FilteredElementCollector(doc);\n",
    "            IList<Element> symbols = collector.OfClass(typeof(FamilySymbol)).WhereElementIsElementType().ToElements();\n",
    "\n",
    "            FamilySymbol symbol = null;\n",
    "            foreach (Element ele in symbols)\n",
    "            {\n",
    "                if(ele.Name == \"1525 x 762mm\")\n",
    "                {\n",
    "                    symbol = ele as FamilySymbol;\n",
    "                    break;\n",
    "                }\n",
    "            }\n",
    "\n",
    "            try\n",
    "            {\n",
    "                using (Transaction trans = new Transaction(doc, \"Place Family\"))\n",
    "                {\n",
    "                    trans.Start();\n",
    "\n",
    "                    if(! symbol.IsActive)\n",
    "                    {\n",
    "                        symbol.Activate();\n",
    "                    }\n",
    "\n",
    "                    doc.Create.NewFamilyInstance(new XYZ(0, 0, 0), symbol, Autodesk.Revit.DB.Structure.StructuralType.NonStructural);\n",
    "\n",
    "                    trans.Commit();\n",
    "                }\n",
    "\n",
    "\n",
    "                return Result.Succeeded;\n",
    "            }\n",
    "            catch (Exception e)\n",
    "            {\n",
    "                message = e.Message;\n",
    "                return Result.Failed;\n",
    "            }\n",
    "\n",
    "        }\n",
    "    }"
   ]
  },
  {
   "cell_type": "markdown",
   "metadata": {},
   "source": [
    "2.8 Querying FilteredElementCollector"
   ]
  },
  {
   "cell_type": "raw",
   "metadata": {},
   "source": [
    "LINQ extensions ____Need to start learning about these. \n",
    "\n",
    "Language integrated query - Feature of C# that allows us to query different data sources and filter the results.\n",
    "\n",
    "Performed using the from, where and select query operators. \n",
    "\n",
    "var query = from x in data_source\n",
    "    where x.Name.Contains(\"Hello\")\n",
    "    select x;\n",
    "\n",
    "\n",
    "Will be using link extension methos in the course. Adds query functionality to existing C# IEnumerable type objects. \n",
    "e.g. First(), Select(), Cast()"
   ]
  },
  {
   "cell_type": "raw",
   "metadata": {},
   "source": [
    "Lambda expressions - Gives more functionality to \n",
    "\n",
    "example\n",
    "\n",
    "Select(x=>x==2)"
   ]
  },
  {
   "cell_type": "raw",
   "metadata": {},
   "source": [
    "Simplifying the script in 2.7 with LINQ and Lambda"
   ]
  },
  {
   "cell_type": "raw",
   "metadata": {},
   "source": [
    "//Added 2.8\n",
    "    [TransactionAttribute(TransactionMode.Manual)]\n",
    "    public class PlaceFamilyImproved : IExternalCommand\n",
    "    {\n",
    "        public Result Execute(ExternalCommandData commandData, ref string message, ElementSet elements)\n",
    "        {\n",
    "            //Get UIDocument\n",
    "            UIDocument uidoc = commandData.Application.ActiveUIDocument;\n",
    "\n",
    "            //Get Document\n",
    "            Document doc = uidoc.Document;\n",
    "\n",
    "            //Get Family Symbol\n",
    "            FilteredElementCollector collector = new FilteredElementCollector(doc);\n",
    "            FamilySymbol symbol = collector.OfClass(typeof(FamilySymbol))\n",
    "                .WhereElementIsElementType()\n",
    "                .Cast<FamilySymbol>()\n",
    "                .First(x => x.Name == \"1525 x 762mm\");\n",
    "\n",
    "           try\n",
    "            {\n",
    "                using (Transaction trans = new Transaction(doc, \"Place Family\"))\n",
    "                {\n",
    "                    trans.Start();\n",
    "\n",
    "                    if (!symbol.IsActive)\n",
    "                    {\n",
    "                        symbol.Activate();\n",
    "                    }\n",
    "\n",
    "                    doc.Create.NewFamilyInstance(new XYZ(0, 0, 0), symbol, Autodesk.Revit.DB.Structure.StructuralType.NonStructural);\n",
    "\n",
    "                    trans.Commit();\n",
    "                }\n",
    "\n",
    "\n",
    "                return Result.Succeeded;\n",
    "            }\n",
    "            catch (Exception e)\n",
    "            {\n",
    "                message = e.Message;\n",
    "                return Result.Failed;\n",
    "            }\n",
    "\n",
    "        }\n",
    "    }"
   ]
  },
  {
   "cell_type": "markdown",
   "metadata": {},
   "source": [
    "2.9 Creating line-based elements"
   ]
  },
  {
   "cell_type": "raw",
   "metadata": {},
   "source": [
    "//Added 2.9\n",
    "    [TransactionAttribute(TransactionMode.Manual)]\n",
    "    public class PlaceLineElement : IExternalCommand\n",
    "    {\n",
    "        public Result Execute(ExternalCommandData commandData, ref string message, ElementSet elements)\n",
    "        {\n",
    "            //Get UIDocument\n",
    "            UIDocument uidoc = commandData.Application.ActiveUIDocument;\n",
    "\n",
    "            //Get Document\n",
    "            Document doc = uidoc.Document;\n",
    "\n",
    "            //Get Level\n",
    "            Level level = new FilteredElementCollector(doc)\n",
    "                .OfCategory(BuiltInCategory.OST_Levels)\n",
    "                .WhereElementIsNotElementType()\n",
    "                .Cast<Level>()\n",
    "                .First(x => x.Name == \"Ground Floor\");\n",
    "\n",
    "            //Create Points\n",
    "            XYZ p1 = new XYZ(-10, -10, 0);\n",
    "            XYZ p2 = new XYZ(10, -10, 0);\n",
    "            XYZ p3 = new XYZ(15, 0, 0);\n",
    "            XYZ p4 = new XYZ(10, 10, 0);\n",
    "            XYZ p5 = new XYZ(-10, -10, 0);\n",
    "\n",
    "            //Create Curve\n",
    "            List<Curve> curves = new List<Curve>();\n",
    "            Line l1 = Line.CreateBound(p1, p2);\n",
    "            Arc l2 = Arc.Create(p2, p4, p3);\n",
    "            Line l3 = Line.CreateBound(p4, p5);\n",
    "            Line l4 = Line.CreateBound(p5, p1);\n",
    "\n",
    "            curves.Add(l1);\n",
    "            curves.Add(l2);\n",
    "            curves.Add(l3);\n",
    "            curves.Add(l4);\n",
    "\n",
    "\n",
    "            try\n",
    "            {\n",
    "                using (Transaction trans = new Transaction(doc, \"Place Family\"))\n",
    "                {\n",
    "                    trans.Start();\n",
    "\n",
    "                    foreach (Curve c in curves)\n",
    "                    {\n",
    "                        Wall.Create(doc, c, level.Id, false);\n",
    "                    }\n",
    "\n",
    "                    trans.Commit();\n",
    "                }\n",
    "\n",
    "\n",
    "                return Result.Succeeded;\n",
    "            }\n",
    "            catch (Exception e)\n",
    "            {\n",
    "                message = e.Message;\n",
    "                return Result.Failed;\n",
    "            }\n",
    "\n",
    "        }\n",
    "    }"
   ]
  },
  {
   "cell_type": "markdown",
   "metadata": {},
   "source": [
    "2.10 Creating loop elements"
   ]
  },
  {
   "cell_type": "markdown",
   "metadata": {},
   "source": [
    "2.11 Get parameter"
   ]
  },
  {
   "cell_type": "markdown",
   "metadata": {},
   "source": [
    "2.12 Parameter values"
   ]
  },
  {
   "cell_type": "markdown",
   "metadata": {},
   "source": [
    "2.13 Chapter quiz"
   ]
  },
  {
   "cell_type": "code",
   "execution_count": null,
   "metadata": {},
   "outputs": [],
   "source": []
  }
 ],
 "metadata": {
  "kernelspec": {
   "display_name": "Python 3",
   "language": "python",
   "name": "python3"
  },
  "language_info": {
   "codemirror_mode": {
    "name": "ipython",
    "version": 3
   },
   "file_extension": ".py",
   "mimetype": "text/x-python",
   "name": "python",
   "nbconvert_exporter": "python",
   "pygments_lexer": "ipython3",
   "version": "3.8.5"
  }
 },
 "nbformat": 4,
 "nbformat_minor": 4
}

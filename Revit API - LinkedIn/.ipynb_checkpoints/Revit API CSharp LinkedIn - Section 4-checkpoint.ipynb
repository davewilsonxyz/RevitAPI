{
 "cells": [
  {
   "cell_type": "markdown",
   "metadata": {},
   "source": [
    "Section 4 - Automating elements"
   ]
  },
  {
   "cell_type": "markdown",
   "metadata": {},
   "source": [
    "4.1 Views"
   ]
  },
  {
   "cell_type": "raw",
   "metadata": {},
   "source": [
    "[View Element] > [View3d, ViewDrafting, ViewPlan, ViewSection, ViewSheet]"
   ]
  },
  {
   "cell_type": "raw",
   "metadata": {},
   "source": [
    "[View Element] > [ViewType.Elevation] > [Floor plan, Building elevation, Building section]"
   ]
  },
  {
   "cell_type": "raw",
   "metadata": {},
   "source": [
    " //Added 4.1\n",
    "    [TransactionAttribute(TransactionMode.Manual)]\n",
    "    public class PlanView : IExternalCommand\n",
    "    {\n",
    "        public Result Execute(ExternalCommandData commandData, ref string message, ElementSet elements)\n",
    "        {\n",
    "            //Get UIDocument\n",
    "            UIDocument uidoc = commandData.Application.ActiveUIDocument;\n",
    "\n",
    "            //Get Document\n",
    "            Document doc = uidoc.Document;\n",
    "\n",
    "            //Get Family Symbol\n",
    "            ViewFamilyType viewFamily = new FilteredElementCollector(doc)\n",
    "                .OfClass(typeof(ViewFamilyType))\n",
    "                .Cast<ViewFamilyType>()\n",
    "                .First(x => x.ViewFamily == ViewFamily.FloorPlan);\n",
    "            \n",
    "            //Get Level\n",
    "            Level level = new FilteredElementCollector(doc)\n",
    "                .OfCategory(BuiltInCategory.OST_Levels)\n",
    "                .WhereElementIsNotElementType()\n",
    "                .Cast<Level>()\n",
    "                .First(x => x.Name == \"Ground Floor\");\n",
    "\n",
    "            try\n",
    "            {\n",
    "                using (Transaction trans = new Transaction(doc, \"Create Plan View\"))\n",
    "                {\n",
    "                    trans.Start();\n",
    "                    //Create View\n",
    "                    ViewPlan vPlan = ViewPlan.Create(doc, viewFamily.Id, level.Id);\n",
    "                    vPlan.Name = \"Our first plan!\";\n",
    "                    trans.Commit();\n",
    "                }\n",
    "\n",
    "                return Result.Succeeded;\n",
    "            }\n",
    "            catch (Exception e)\n",
    "            {\n",
    "                message = e.Message;\n",
    "                return Result.Failed;\n",
    "            }\n",
    "\n",
    "        }\n",
    "    }"
   ]
  },
  {
   "cell_type": "raw",
   "metadata": {},
   "source": [
    "What does the above code do?"
   ]
  },
  {
   "cell_type": "code",
   "execution_count": null,
   "metadata": {},
   "outputs": [],
   "source": [
    "what dont I understand about the above code? Look at the docs. Go back over the video. "
   ]
  },
  {
   "cell_type": "markdown",
   "metadata": {},
   "source": [
    "4.2 Filters"
   ]
  },
  {
   "cell_type": "raw",
   "metadata": {},
   "source": [
    "//Added 4.2\n",
    "    [TransactionAttribute(TransactionMode.Manual)]\n",
    "    public class ViewFilter : IExternalCommand\n",
    "    {\n",
    "        public Result Execute(ExternalCommandData commandData, ref string message, ElementSet elements)\n",
    "        {\n",
    "            //Get UIDocument\n",
    "            UIDocument uidoc = commandData.Application.ActiveUIDocument;\n",
    "\n",
    "            //Get Document\n",
    "            Document doc = uidoc.Document;\n",
    "\n",
    "            //Create Filter\n",
    "            List<ElementId> cats = new List<ElementId>();\n",
    "            cats.Add(new ElementId(BuiltInCategory.OST_Sections));\n",
    "\n",
    "            ElementParameterFilter filter = new ElementParameterFilter(ParameterFilterRuleFactory.CreateContainsRule(new ElementId(BuiltInParameter.VIEW_NAME), \"WIP\", false));\n",
    "\n",
    "            try\n",
    "            {\n",
    "                using (Transaction trans = new Transaction(doc, \"Apply Filter\"))\n",
    "                {\n",
    "                    trans.Start();\n",
    "\n",
    "                    //Apply Filter\n",
    "                    ParameterFilterElement filterElement = ParameterFilterElement.Create(doc, \"My first filter\", cats, filter);\n",
    "                    doc.ActiveView.AddFilter(filterElement.Id);\n",
    "                    doc.ActiveView.SetFilterVisibility(filterElement.Id, false);\n",
    "\n",
    "                    trans.Commit();\n",
    "                }\n",
    "\n",
    "                return Result.Succeeded;\n",
    "            }\n",
    "            catch (Exception e)\n",
    "            {\n",
    "                message = e.Message;\n",
    "                return Result.Failed;\n",
    "            }\n",
    "\n",
    "        }\n",
    "    }"
   ]
  },
  {
   "cell_type": "raw",
   "metadata": {},
   "source": [
    "What does the above code do?"
   ]
  },
  {
   "cell_type": "code",
   "execution_count": null,
   "metadata": {},
   "outputs": [],
   "source": [
    "what dont I understand about the above code? Look at the docs. Go back over the video. "
   ]
  },
  {
   "cell_type": "markdown",
   "metadata": {},
   "source": [
    "4.3 Tagging Elements"
   ]
  },
  {
   "cell_type": "raw",
   "metadata": {},
   "source": [
    " //Added 4.3\n",
    "    [TransactionAttribute(TransactionMode.Manual)]\n",
    "    public class TagView : IExternalCommand\n",
    "    {\n",
    "        public Result Execute(ExternalCommandData commandData, ref string message, ElementSet elements)\n",
    "        {\n",
    "            //Get UIDocument\n",
    "            UIDocument uidoc = commandData.Application.ActiveUIDocument;\n",
    "\n",
    "            //Get Document\n",
    "            Document doc = uidoc.Document;\n",
    "\n",
    "            //Tag Parameters\n",
    "            TagMode tMode = TagMode.TM_ADDBY_CATEGORY;\n",
    "            TagOrientation tOrient = TagOrientation.Horizontal;\n",
    "\n",
    "            List<BuiltInCategory> cats = new List<BuiltInCategory>();\n",
    "            cats.Add(BuiltInCategory.OST_Windows);\n",
    "            cats.Add(BuiltInCategory.OST_Doors);\n",
    "\n",
    "            ElementMulticategoryFilter filter = new ElementMulticategoryFilter(cats);\n",
    "            IList<Element> tElements = new FilteredElementCollector(doc, doc.ActiveView.Id)\n",
    "                .WherePasses(filter)\n",
    "                .WhereElementIsNotElementType()\n",
    "                .ToElements();\n",
    "\n",
    "            try\n",
    "            {\n",
    "                using (Transaction trans = new Transaction(doc, \"Tag Elements\"))\n",
    "                {\n",
    "                    trans.Start();\n",
    "\n",
    "                    //Tag Elements\n",
    "                    foreach (Element ele in tElements)\n",
    "                    {\n",
    "                        Reference refe = new Reference(ele);\n",
    "                        LocationPoint loc = ele.Location as LocationPoint;\n",
    "                        XYZ point = loc.Point;\n",
    "                        IndependentTag tag = IndependentTag.Create(doc, doc.ActiveView.Id, refe, true, tMode, tOrient, point);\n",
    "\n",
    "                    }\n",
    "\n",
    "                    trans.Commit();\n",
    "                }\n",
    "\n",
    "                return Result.Succeeded;\n",
    "            }\n",
    "            catch (Exception e)\n",
    "            {\n",
    "                message = e.Message;\n",
    "                return Result.Failed;\n",
    "            }\n",
    "\n",
    "        }\n",
    "    }"
   ]
  },
  {
   "cell_type": "code",
   "execution_count": null,
   "metadata": {},
   "outputs": [],
   "source": [
    "What does the above code do?"
   ]
  },
  {
   "cell_type": "code",
   "execution_count": null,
   "metadata": {},
   "outputs": [],
   "source": [
    "what dont I understand about the above code? Look at the docs. Go back over the video. "
   ]
  },
  {
   "cell_type": "markdown",
   "metadata": {},
   "source": [
    "4.4 Sheets"
   ]
  },
  {
   "cell_type": "raw",
   "metadata": {},
   "source": [
    " //Added 4.4\n",
    "    [TransactionAttribute(TransactionMode.Manual)]\n",
    "    public class Sheets : IExternalCommand\n",
    "    {\n",
    "        public Result Execute(ExternalCommandData commandData, ref string message, ElementSet elements)\n",
    "        {\n",
    "            //Get UIDocument\n",
    "            UIDocument uidoc = commandData.Application.ActiveUIDocument;\n",
    "\n",
    "            //Get Document\n",
    "            Document doc = uidoc.Document;\n",
    "\n",
    "            //Get Family Symbol\n",
    "            FamilySymbol tBlock = new FilteredElementCollector(doc)\n",
    "                .OfCategory(BuiltInCategory.OST_TitleBlocks)\n",
    "                .WhereElementIsElementType()\n",
    "                .Cast<FamilySymbol>()\n",
    "                .First();\n",
    "\n",
    "            try\n",
    "            {\n",
    "                using (Transaction trans = new Transaction(doc, \"Create Sheet\"))\n",
    "                {\n",
    "                    trans.Start();\n",
    "\n",
    "                    //Create Sheet\n",
    "                    ViewSheet vSheet = ViewSheet.Create(doc, tBlock.Id);\n",
    "                    vSheet.Name = \"My First Sheet\";\n",
    "                    vSheet.SheetNumber = \"J101\";\n",
    "\n",
    "                    trans.Commit();\n",
    "                }\n",
    "\n",
    "                return Result.Succeeded;\n",
    "            }\n",
    "            catch (Exception e)\n",
    "            {\n",
    "                message = e.Message;\n",
    "                return Result.Failed;\n",
    "            }\n",
    "\n",
    "        }\n",
    "    }"
   ]
  },
  {
   "cell_type": "code",
   "execution_count": null,
   "metadata": {},
   "outputs": [],
   "source": [
    "What does the above code do?"
   ]
  },
  {
   "cell_type": "code",
   "execution_count": null,
   "metadata": {},
   "outputs": [],
   "source": [
    "what dont I understand about the above code? Look at the docs. Go back over the video. "
   ]
  },
  {
   "cell_type": "markdown",
   "metadata": {},
   "source": [
    "4.5 Placing views"
   ]
  },
  {
   "cell_type": "raw",
   "metadata": {},
   "source": [
    " //Added 4.5 \n",
    "    [TransactionAttribute(TransactionMode.Manual)]\n",
    "    public class PlaceView : IExternalCommand\n",
    "    {\n",
    "        public Result Execute(ExternalCommandData commandData, ref string message, ElementSet elements)\n",
    "        {\n",
    "            //Get UIDocument\n",
    "            UIDocument uidoc = commandData.Application.ActiveUIDocument;\n",
    "\n",
    "            //Get Document\n",
    "            Document doc = uidoc.Document;\n",
    "\n",
    "            //Find Sheet\n",
    "            ViewSheet vSheet = new FilteredElementCollector(doc)\n",
    "                .OfCategory(BuiltInCategory.OST_Sheets)\n",
    "                .Cast<ViewSheet>()\n",
    "                .First(x => x.Name == \"My First Sheet\");\n",
    "\n",
    "            //Find View\n",
    "            Element vPlan = new FilteredElementCollector(doc)\n",
    "                .OfCategory(BuiltInCategory.OST_Views)\n",
    "                .First(x => x.Name == \"Our first plan!\");\n",
    "\n",
    "            //Get Midpoint\n",
    "            BoundingBoxUV outline = vSheet.Outline;\n",
    "            double xu = (outline.Max.U + outline.Min.U) / 2;\n",
    "            double yu = (outline.Max.V + outline.Min.V) / 2;\n",
    "            XYZ midPoint = new XYZ(xu, yu, 0);\n",
    "\n",
    "\n",
    "            try\n",
    "            {\n",
    "                using (Transaction trans = new Transaction(doc, \"Place View\"))\n",
    "                {\n",
    "                    trans.Start();\n",
    "\n",
    "                    //Place View\n",
    "                    Viewport vPort = Viewport.Create(doc, vSheet.Id, vPlan.Id, midPoint);\n",
    "\n",
    "                    trans.Commit();\n",
    "                }\n",
    "\n",
    "                return Result.Succeeded;\n",
    "            }\n",
    "            catch (Exception e)\n",
    "            {\n",
    "                message = e.Message;\n",
    "                return Result.Failed;\n",
    "            }\n",
    "\n",
    "        }\n",
    "    }"
   ]
  },
  {
   "cell_type": "code",
   "execution_count": null,
   "metadata": {},
   "outputs": [],
   "source": [
    "What does the above code do?"
   ]
  },
  {
   "cell_type": "code",
   "execution_count": null,
   "metadata": {},
   "outputs": [],
   "source": [
    "what dont I understand about the above code? Look at the docs. Go back over the video. "
   ]
  },
  {
   "cell_type": "markdown",
   "metadata": {},
   "source": [
    "4.6 Chapter quiz"
   ]
  },
  {
   "cell_type": "raw",
   "metadata": {},
   "source": [
    "What should I be looking at more from the questions on the quiz?"
   ]
  },
  {
   "cell_type": "code",
   "execution_count": null,
   "metadata": {},
   "outputs": [],
   "source": []
  }
 ],
 "metadata": {
  "kernelspec": {
   "display_name": "Python 3",
   "language": "python",
   "name": "python3"
  },
  "language_info": {
   "codemirror_mode": {
    "name": "ipython",
    "version": 3
   },
   "file_extension": ".py",
   "mimetype": "text/x-python",
   "name": "python",
   "nbconvert_exporter": "python",
   "pygments_lexer": "ipython3",
   "version": "3.8.5"
  }
 },
 "nbformat": 4,
 "nbformat_minor": 4
}

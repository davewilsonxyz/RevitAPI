{
 "cells": [
  {
   "cell_type": "markdown",
   "metadata": {},
   "source": [
    "Section 4 - Element Geometry"
   ]
  },
  {
   "cell_type": "markdown",
   "metadata": {},
   "source": [
    "4.1 Element Location - Location Curve and Location Point"
   ]
  },
  {
   "cell_type": "raw",
   "metadata": {},
   "source": [
    "\t\tpublic void S4_1_location()\n",
    "\t\t{\n",
    "\t\t\tDocument doc = this.ActiveUIDocument.Document;\n",
    "\t\t\tUIDocument uidoc = this.ActiveUIDocument;\n",
    "\t\t\tElement e = doc.GetElement(uidoc.Selection.PickObject(ObjectType.Element));\n",
    "\t\t\t\n",
    "\t\t\tLocation location = e.Location;\n",
    "\t\t\t\n",
    "\t\t\tif (location is LocationCurve)\n",
    "\t\t\t{\n",
    "\t\t\t\tLocationCurve lc = location as LocationCurve;\n",
    "\t\t\t\tCurve c = lc.Curve;\n",
    "\t\t\t\tXYZ end0 = c.GetEndPoint(0);\n",
    "\t\t\t\tXYZ end1 = c.GetEndPoint(1);\n",
    "\t\t\t\tTaskDialog.Show(\"Curve endpoints\", end0.ToString() + Environment.NewLine + end1.ToString());\n",
    "\t\t\t\tif (c is Line)\n",
    "\t\t\t\t{\n",
    "\t\t\t\t\tLine line = c as Line;\n",
    "\t\t\t\t\t//TaskDialog.Show(\"Direction\", line.Direction.ToString());\n",
    "\t\t\t\t}\n",
    "\t\t\t\telse\n",
    "\t\t\t\t{\n",
    "\t\t\t\t\tTransform t = c.ComputeDerivatives(0.5, true);\n",
    "\t\t\t\t\tXYZ tangent = t.BasisX;\n",
    "\t\t\t\t\tXYZ tangentNormal = tangent.Normalize();\n",
    "\t\t\t\t\t//TaskDialog.Show(\"Direction\", tangent.ToString() + Environment.NewLine + tangentNormal.ToString());\n",
    "\t\t\t\t}\n",
    "\t\t\t\t\n",
    "\t\t\t}\n",
    "\t\t\telse\n",
    "\t\t\t{\n",
    "\t\t\t\tLocationPoint lp = location as LocationPoint;\n",
    "\t\t\t\tXYZ point = lp.Point;\n",
    "\t\t\t\tTaskDialog.Show(\"Point\",point.ToString());\n",
    "\t\t\t}\n",
    "\t\t}"
   ]
  },
  {
   "cell_type": "markdown",
   "metadata": {},
   "source": [
    "4.2 Get geometry of host faces"
   ]
  },
  {
   "cell_type": "raw",
   "metadata": {},
   "source": [
    "\t\tpublic void S4_2_HostFaces()\n",
    "\t\t{\n",
    "\t\t\tDocument doc = this.ActiveUIDocument.Document;\n",
    "\t\t\tstring info = \"\";\n",
    "\t\t\tforeach (HostObject hostObj in new FilteredElementCollector(doc).OfClass(typeof(HostObject)))\n",
    "\t\t\t{\n",
    "\t\t\t\tinfo += hostObj.Name + Environment.NewLine;\n",
    "\t\t\t\ttry\n",
    "\t\t\t\t{\n",
    "\t\t\t\t\tIList<Reference> sideFaceRefs = HostObjectUtils.GetSideFaces(hostObj, ShellLayerType.Exterior);\n",
    "\t\t\t\t\tforeach (Reference r in sideFaceRefs)\n",
    "\t\t\t\t\t{\n",
    "\t\t\t\t\t\tFace f = hostObj.GetGeometryObjectFromReference(r) as Face;\n",
    "\t\t\t\t\t\tinfo += f.Area + \", \";\n",
    "\t\t\t\t\t}\n",
    "\t\t\t\t}\n",
    "\t\t\t\tcatch (Autodesk.Revit.Exceptions.ArgumentException)\n",
    "\t\t\t\t{}\n",
    "\t\t\t\t\n",
    "\t\t\t\ttry\n",
    "\t\t\t\t{\n",
    "\t\t\t\t\tIList<Reference> sideFaceRefs = HostObjectUtils.GetTopFaces(hostObj);\n",
    "\t\t\t\t\tforeach (Reference r in sideFaceRefs)\n",
    "\t\t\t\t\t{\n",
    "\t\t\t\t\t\tFace f = hostObj.GetGeometryObjectFromReference(r) as Face;\n",
    "\t\t\t\t\t\tinfo += f.Area + \", \";\n",
    "\t\t\t\t\t}\n",
    "\t\t\t\t}\n",
    "\t\t\t\tcatch (Autodesk.Revit.Exceptions.ArgumentException)\n",
    "\t\t\t\t{}\n",
    "\t\t\t\t\n",
    "\t\t\t\ttry\n",
    "\t\t\t\t{\n",
    "\t\t\t\t\tIList<Reference> sideFaceRefs = HostObjectUtils.GetBottomFaces(hostObj);\n",
    "\t\t\t\t\tforeach (Reference r in sideFaceRefs)\n",
    "\t\t\t\t\t{\n",
    "\t\t\t\t\t\tFace f = hostObj.GetGeometryObjectFromReference(r) as Face;\n",
    "\t\t\t\t\t\tinfo += f.Area + \", \";\n",
    "\t\t\t\t\t}\n",
    "\t\t\t\t}\n",
    "\t\t\t\tcatch (Autodesk.Revit.Exceptions.ArgumentException)\n",
    "\t\t\t\t{}\n",
    "\t\t\t\t\n",
    "\t\t\t\tinfo += Environment.NewLine + Environment.NewLine;\n",
    "\t\t\t}\n",
    "\t\t\tTaskDialog.Show(\"Host Objects\", info);\n",
    "\t\t}"
   ]
  },
  {
   "cell_type": "markdown",
   "metadata": {},
   "source": [
    "4.3 Get curves and solids of an element"
   ]
  },
  {
   "cell_type": "raw",
   "metadata": {},
   "source": [
    "public void S4_3_volume()\n",
    "{\n",
    "\tDocument doc = this.Document;\n",
    "\t\n",
    "\tOptions options = new Options();\n",
    "//\t\t\toptions.DetailLevel = ViewDetailLevel.Coarse;\n",
    "//\t\t\toptions.View = doc.ActiveView;\n",
    "//\t\t\t\n",
    "\tforeach (Element e in new FilteredElementCollector(doc).OfClass(typeof(Stairs)))\n",
    "\t{\t\t\t\n",
    "\t\tCurveArray curves = new CurveArray();\n",
    "\t\tList<Solid> solids = new List<Solid>();\n",
    "\t\tAddCurvesAndSolids(e.get_Geometry(options), ref curves, ref solids);\n",
    "\t\tforeach (Solid s in solids)\n",
    "\t\t{\n",
    "\t\t\tTaskDialog.Show(\"e\", e.Id.IntegerValue + \" \" + s.Volume);\n",
    "\t\t}\n",
    "\t}\n",
    "}\n",
    "\t\t\n",
    "private void AddCurvesAndSolids(Autodesk.Revit.DB.GeometryElement geomElem,\n",
    "\tref Autodesk.Revit.DB.CurveArray curves,\n",
    "\tref System.Collections.Generic.List<Autodesk.Revit.DB.Solid> solids)\n",
    "{\n",
    "    foreach (Autodesk.Revit.DB.GeometryObject geomObj in geomElem)\n",
    "    {\n",
    "        Autodesk.Revit.DB.Curve curve = geomObj as Autodesk.Revit.DB.Curve;\n",
    "        if (null != curve)\n",
    "        {\n",
    "            curves.Append(curve);\n",
    "            continue;\n",
    "        }\n",
    "        Autodesk.Revit.DB.Solid solid = geomObj as Autodesk.Revit.DB.Solid;\n",
    "        if (null != solid)\n",
    "        {\n",
    "            solids.Add(solid);\n",
    "            continue;\n",
    "        }\n",
    "        //If this GeometryObject is Instance, call AddCurvesAndSolids\n",
    "        Autodesk.Revit.DB.GeometryInstance geomInst = geomObj as Autodesk.Revit.DB.GeometryInstance;\n",
    "        if (null != geomInst)\n",
    "        {\n",
    "            Autodesk.Revit.DB.GeometryElement transformedGeomElem\n",
    "              = geomInst.GetInstanceGeometry(geomInst.Transform);\n",
    "            AddCurvesAndSolids(transformedGeomElem, ref curves, ref solids);\n",
    "        }\n",
    "    }\n",
    "}"
   ]
  }
 ],
 "metadata": {
  "kernelspec": {
   "display_name": "Python 3",
   "language": "python",
   "name": "python3"
  },
  "language_info": {
   "codemirror_mode": {
    "name": "ipython",
    "version": 3
   },
   "file_extension": ".py",
   "mimetype": "text/x-python",
   "name": "python",
   "nbconvert_exporter": "python",
   "pygments_lexer": "ipython3",
   "version": "3.8.5"
  }
 },
 "nbformat": 4,
 "nbformat_minor": 4
}

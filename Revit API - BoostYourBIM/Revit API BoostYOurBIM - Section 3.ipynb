{
 "cells": [
  {
   "cell_type": "markdown",
   "metadata": {},
   "source": [
    "Section 3 - Element Operations"
   ]
  },
  {
   "cell_type": "markdown",
   "metadata": {},
   "source": [
    "3.1 Delete an element - Into to modifying the document"
   ]
  },
  {
   "cell_type": "raw",
   "metadata": {},
   "source": [
    "\t\tpublic void S3_1_DeleteElement()\n",
    "\t\t{\n",
    "\t\t\tUIDocument uidoc = this.ActiveUIDocument;\n",
    "\t\t\tDocument doc = uidoc.Document;\n",
    "\n",
    "\t\t\tusing (Transaction t = new Transaction(doc, \"Delete Element\"))\n",
    "\t\t\t{\n",
    "\t\t\t\tt.Start();\n",
    "\t\t\t\tdoc.Delete(uidoc.Selection.PickObject(ObjectType.Element).ElementId);\n",
    "\t\t\t\tt.Commit();\n",
    "\t\t\t}\n",
    "\t\t}"
   ]
  },
  {
   "cell_type": "markdown",
   "metadata": {},
   "source": [
    "3.2 Create a text note and get and set parameters"
   ]
  },
  {
   "cell_type": "raw",
   "metadata": {},
   "source": [
    "\t\tpublic void 3_2_1_CreateTextNote()\n",
    "\t\t{\n",
    "\t\t\tUIDocument uidoc = this.ActiveUIDocument;\n",
    "\t\t\tDocument doc = uidoc.Document;\n",
    "\n",
    "\t\t\tXYZ point = uidoc.Selection.PickPoint();\n",
    "\t\t\t\n",
    "\t\t\tusing (Transaction t = new Transaction(doc, \"Create Text Note\"))\n",
    "\t\t\t{\n",
    "\t\t\t\tt.Start();\n",
    "\t\t\t\tTextNoteOptions options = new TextNoteOptions();\n",
    "\t\t\t\toptions.HorizontalAlignment = HorizontalTextAlignment.Center;\n",
    "\t\t\t\toptions.TypeId = (new FilteredElementCollector(doc).OfClass(typeof(TextNoteType)).FirstOrDefault()).Id;\n",
    "\t\t\t\tTextNote note = TextNote.Create(doc, doc.ActiveView.Id, point, 1, \n",
    "\t\t\t\t         \"I am an API created text note\" + Environment.NewLine + \"Line 2 of the text\",\n",
    "\t\t\t\t         options);\n",
    "\t\t\t\t\n",
    "\t\t\t\tParameter arcParameter = note.get_Parameter(BuiltInParameter.ARC_LEADER_PARAM);\n",
    "\t\t\t\tarcParameter.Set(1);\n",
    "\t\t\t\t\n",
    "\t\t\t\tLeader l = note.AddLeader(TextNoteLeaderTypes.TNLT_ARC_L);\n",
    "\t\t\t\t\n",
    "\t\t\t\tt.Commit();\n",
    "\t\t\t}\n",
    "\t\t}"
   ]
  },
  {
   "cell_type": "raw",
   "metadata": {},
   "source": [
    "public void S3_2_2_textColor()\n",
    "{\n",
    "\tDocument doc = this.ActiveUIDocument.Document;\n",
    "\tUIDocument uidoc = this.ActiveUIDocument;\n",
    "\tTextNote tn = doc.GetElement(uidoc.Selection.PickObject(ObjectType.Element)) as TextNote;\n",
    "\tTextNoteType tnType = tn.TextNoteType;\n",
    "\tParameter tnColor = tnType.get_Parameter(BuiltInParameter.LINE_COLOR);\n",
    "\t\n",
    "\t// create color using Color.FromArgb with RGB inputs\n",
    "\tSystem.Drawing.Color color = System.Drawing.Color.FromArgb(255,0,0);\n",
    "\t\n",
    "\t// convert color into an integer\n",
    "\tint colorInt = System.Drawing.ColorTranslator.ToWin32(color);\n",
    "\t\n",
    "\tusing (Transaction t = new Transaction(doc,\"color\"))\n",
    "\t{\n",
    "\t\tt.Start();\n",
    "\t\ttnColor.Set(colorInt);\n",
    "\t\tt.Commit();\n",
    "\t}\n",
    "}"
   ]
  },
  {
   "cell_type": "markdown",
   "metadata": {},
   "source": [
    "3.3 Set parameter value and check parameter storage type"
   ]
  },
  {
   "cell_type": "raw",
   "metadata": {},
   "source": [
    "public void S3_3_setParamForDetailComponents()\n",
    "{\n",
    "\tDocument doc = this.ActiveUIDocument.Document;\n",
    "\tstring parameterTypeError = \"\";\n",
    "\tusing (Transaction t = new Transaction(doc,\"Set annotation parameters\"))\n",
    "\t{\n",
    "\t\tt.Start();\n",
    "\t\tforeach (FamilyInstance fi in new FilteredElementCollector(doc)\n",
    "\t\t         .OfClass(typeof(FamilyInstance))\n",
    "\t\t         .OfCategory(BuiltInCategory.OST_DetailComponents)\n",
    "\t\t         .Cast<FamilyInstance>())\n",
    "\t\t{\n",
    "\t\t\tParameter p = fi.LookupParameter(\"View\");\n",
    "\t\t\tif (p == null)\n",
    "\t\t\t\tbreak;\n",
    "\t\t\t\n",
    "\t\t\tif (p.StorageType != StorageType.String)\n",
    "\t\t\t{\n",
    "\t\t\t\tparameterTypeError += fi.Symbol.Family.Name + \" - \" + p.StorageType.ToString() + \"\\n\";\n",
    "\t\t\t\tbreak;\n",
    "\t\t\t}\n",
    "\t\t\t\n",
    "\t\t\tElement ownerView = doc.GetElement(fi.OwnerViewId);\n",
    "\t\t\tp.Set(ownerView.Name);\n",
    "\t\t}\n",
    "\t\t\n",
    "\t\tif (parameterTypeError != \"\")\n",
    "\t\t{\n",
    "\t\t\tTaskDialog.Show(\"Error\",\"Parameter must be a string.\\n\" + parameterTypeError);\n",
    "\t\t}\n",
    "\t\t\t\t\n",
    "\t\tt.Commit();\n",
    "\t}\n",
    "}"
   ]
  },
  {
   "cell_type": "markdown",
   "metadata": {},
   "source": [
    "3.4 Built in parameters"
   ]
  },
  {
   "cell_type": "raw",
   "metadata": {},
   "source": [
    "\t\tpublic void S3_4_builtInParamsForElement()\n",
    "\t\t{\n",
    "\t\t\tUIDocument uidoc = this.ActiveUIDocument;\n",
    "\t\t\tDocument doc = uidoc.Document;\n",
    "\t\t\tElement e = doc.GetElement(uidoc.Selection.PickObject(ObjectType.Element));\n",
    "\t\t\tstring data = \"\";\n",
    "\t\t\tforeach (BuiltInParameter bip in Enum.GetValues(typeof(BuiltInParameter)))\n",
    "\t\t\t{\n",
    "\t\t\t\ttry\n",
    "\t\t\t\t{\n",
    "\t\t\t\t\tParameter p = e.get_Parameter(bip);\n",
    "\t\t\t\t\tdata += bip.ToString() + \": \" + p.Definition.Name + \": \";\n",
    "\n",
    "\t\t\t\t\tif (p.StorageType == StorageType.String)\n",
    "\t\t\t\t\t\tdata += p.AsString();\n",
    "\t\t\t\t\telse if (p.StorageType == StorageType.Integer)\n",
    "\t\t\t\t\t\tdata += p.AsInteger();\n",
    "\t\t\t\t\telse if (p.StorageType == StorageType.Double)\n",
    "\t\t\t\t\t\tdata += p.AsDouble();\n",
    "\t\t\t\t\telse if (p.StorageType == StorageType.ElementId)\n",
    "\t\t\t\t\t\tdata += \"ID \" + p.AsElementId().IntegerValue;\n",
    "\t\t\t\t\tdata += \"\\n\";\t\n",
    "\t\t\t\t} \n",
    "\t\t\t\tcatch\n",
    "\t\t\t\t{\n",
    "\t\t\t\t}\n",
    "\t\t\t}\n",
    "\t\t\tTaskDialog.Show(\"BI Params\",data);\n",
    "\t\t}"
   ]
  },
  {
   "cell_type": "markdown",
   "metadata": {},
   "source": [
    "3.5 Collecting element area and key note properties"
   ]
  },
  {
   "cell_type": "code",
   "execution_count": null,
   "metadata": {},
   "outputs": [],
   "source": []
  },
  {
   "cell_type": "markdown",
   "metadata": {},
   "source": [
    "3.6 Create wall"
   ]
  },
  {
   "cell_type": "raw",
   "metadata": {},
   "source": [
    "\t\tpublic void S3_6_CreateWall()\n",
    "\t\t{\t\t\n",
    "\t\t\tUIDocument uidoc = this.ActiveUIDocument;\n",
    "\t\t\tDocument doc = uidoc.Document;\n",
    "\n",
    "\t\t\tLine l = Line.CreateBound(XYZ.Zero, new XYZ(10,10,0));\n",
    "\t\t\tElementId levelId = uidoc.Selection.PickObject(ObjectType.Element, \"Select a level\").ElementId;\n",
    "\t\t\t\n",
    "\t\t\tusing (Transaction t = new Transaction(doc, \"Create Wall\"))\n",
    "\t\t\t{\n",
    "\t\t\t\tt.Start();\n",
    "\t\t\t\tWall w = Wall.Create(doc, l, levelId, false);\n",
    "\t\t\t\tt.Commit();\n",
    "\t\t\t}\n",
    "\t\t}"
   ]
  },
  {
   "cell_type": "markdown",
   "metadata": {},
   "source": [
    "3.7 Create family instance furniture"
   ]
  },
  {
   "cell_type": "raw",
   "metadata": {},
   "source": [
    "https://help.autodesk.com/view/RVT/2018/ENU/?guid=Revit_API_Revit_API_Developers_Guide_Revit_Geometric_Elements_Family_Instances_FamilyInstances_html"
   ]
  },
  {
   "cell_type": "raw",
   "metadata": {},
   "source": [
    "\t\tpublic void S3_7_NewDesk()\n",
    "\t\t{\n",
    "\t\t\tUIDocument uidoc = this.ActiveUIDocument;\n",
    "\t\t\tDocument doc = this.ActiveUIDocument.Document;\n",
    "\t\t\t\n",
    "\t\t\tLevel l = new FilteredElementCollector(doc).OfClass(typeof(Level)).Cast<Level>().OrderBy(q => q.Elevation).First();\n",
    "\t\t\tFamily f = new FilteredElementCollector(doc).OfClass(typeof(Family)).FirstOrDefault(q => q.Name == \"Desk\") as Family;\n",
    "\t\t\tFamilySymbol fs = f.GetFamilySymbolIds().Select(q => doc.GetElement(q)).First(q => q.Name == \"72\\\" x 36\\\"\") as FamilySymbol;\n",
    "\n",
    "\t\t\tXYZ point = uidoc.Selection.PickPoint(\"Pick point\");\n",
    "\t\t\t\n",
    "\t\t\tusing (Transaction t = new Transaction(doc,\"Create Family Instance\"))\n",
    "\t\t\t{\n",
    "\t\t\t\tt.Start();\n",
    "\t\t\t\t\n",
    "\t\t\t\tif (!fs.IsActive)\n",
    "\t\t\t\t\tfs.Activate();\n",
    "\t\t\t\t\n",
    "\t\t\t\tFamilyInstance fi = doc.Create.NewFamilyInstance(point, fs, l, Autodesk.Revit.DB.Structure.StructuralType.NonStructural);\n",
    "\t\t\t\tt.Commit();\n",
    "\t\t\t}\n",
    "\t\t}"
   ]
  },
  {
   "cell_type": "markdown",
   "metadata": {},
   "source": [
    "3.8 Create family instance door"
   ]
  },
  {
   "cell_type": "raw",
   "metadata": {},
   "source": [
    "public void S3_8_1_nearestBelowWithForeach()\n",
    "{\n",
    "\tDocument doc = this.ActiveUIDocument.Document;\n",
    "\tdouble z = 22.5;\n",
    "\tLevel nearestLevelBelow = null;\n",
    "\tforeach (Level level in new FilteredElementCollector(doc).OfClass(typeof(Level)).Cast<Level>())\n",
    "\t{\n",
    "\t\t// initialize a value for nearestLevelBelow for the first time through the loop\n",
    "\t\tif (nearestLevelBelow == null)\n",
    "\t\t{\n",
    "\t\t\tnearestLevelBelow = level;\n",
    "\t\t\tcontinue;\n",
    "\t\t}\n",
    "\t\t\n",
    "\t\tif (level.Elevation <= z && level.Elevation > nearestLevelBelow.Elevation)\n",
    "\t\t\tnearestLevelBelow = level;\n",
    "\t}\n",
    "\tTaskDialog.Show(\"Level\", nearestLevelBelow.Name + \", \" + nearestLevelBelow.Elevation);\n",
    "}\n",
    "\n",
    "public void nearestBelowWithLINQ()\n",
    "{\n",
    "\tDocument doc = this.ActiveUIDocument.Document;\n",
    "\tdouble z = 22.5;\n",
    "\tLevel nearestLevelBelow = new FilteredElementCollector(doc).OfClass(typeof(Level)).Cast<Level>().Where(q => q.Elevation <= z).OrderByDescending(q => q.Elevation).First();\n",
    "\tTaskDialog.Show(\"Level\", nearestLevelBelow.Name + \", \" + nearestLevelBelow.Elevation);\n",
    "}"
   ]
  },
  {
   "cell_type": "raw",
   "metadata": {},
   "source": [
    "public void S3_8_2_NewDoor()\n",
    "{\n",
    "\tUIDocument uidoc = this.ActiveUIDocument;\n",
    "\tDocument doc = this.ActiveUIDocument.Document;\n",
    "\t\n",
    "\tLevel l = new FilteredElementCollector(doc).OfClass(typeof(Level)).Cast<Level>().OrderBy(q => q.Elevation).First();\n",
    "\tFamily f = new FilteredElementCollector(doc).OfClass(typeof(Family)).Cast<Family>()\n",
    "\t\t.FirstOrDefault(q => q.FamilyCategoryId.IntegerValue == (int)BuiltInCategory.OST_Doors\n",
    "\t\t                && q.Name == \"Single-Flush\") as Family;\n",
    "\t\n",
    "\tif (f == null)\n",
    "\t{\n",
    "\t\tTaskDialog.Show(\"Error\", \"no family\");\n",
    "\t\treturn;\t\n",
    "\t}\n",
    "\t\n",
    "\tFamilySymbol fs = f.GetFamilySymbolIds().Select(q => doc.GetElement(q)).Cast<FamilySymbol>().First(q => q.Name == \"36\\\" x 84\\\"\");\n",
    "\tReference r = uidoc.Selection.PickObject(ObjectType.Element,\"Pick point on wall\");\n",
    "\tXYZ point = r.GlobalPoint;\n",
    "\tElement host = doc.GetElement(r);\n",
    "\t\n",
    "\tusing (Transaction t = new Transaction(doc,\"Create Family Instance\"))\n",
    "\t{\n",
    "\t\tt.Start();\n",
    "\t\tFamilyInstance fi = doc.Create.NewFamilyInstance\n",
    "\t\t\t(point, fs, host, l, Autodesk.Revit.DB.Structure.StructuralType.NonStructural);\n",
    "\t\tt.Commit();\n",
    "\t}\n",
    "}"
   ]
  },
  {
   "cell_type": "markdown",
   "metadata": {},
   "source": [
    "3.9 Element rotation"
   ]
  },
  {
   "cell_type": "raw",
   "metadata": {},
   "source": [
    "public void S3_9_rotate()\n",
    "{\n",
    "\tDocument doc = this.ActiveUIDocument.Document;\n",
    "\tUIDocument uidoc = this.ActiveUIDocument;\n",
    "\tElement e = doc.GetElement(uidoc.Selection.PickObject(ObjectType.Element));\n",
    "\t\n",
    "\tLocation location = e.Location;\n",
    "\tXYZ point = null;\n",
    "\t\n",
    "\tif (location is LocationPoint)\n",
    "\t// for point-based elements\n",
    "\t{\n",
    "\t\tLocationPoint lp = location as LocationPoint;\n",
    "\t\tpoint = ((LocationPoint)e.Location).Point;\n",
    "\t}\n",
    "\telse if (location is LocationCurve)\n",
    "\t// for walls, beams, and other curve-based elements\n",
    "\t{\n",
    "\t\tLocationCurve lc = location as LocationCurve;\n",
    "\t\tpoint = lc.Curve.Evaluate(0.5, true);\n",
    "\t\t\n",
    "\t}\n",
    "\telse\n",
    "\t// for anything else, such as sketched-based elements like floors\n",
    "\t{\n",
    "\t\tBoundingBoxXYZ bbox = e.get_BoundingBox(null);\n",
    "\t\tpoint = (bbox.Max + bbox.Min) / 2;\n",
    "\t}\n",
    "\tXYZ point2 = point.Add(XYZ.BasisZ);\t\t\t\t\n",
    "\tLine axis = Line.CreateBound(point, point2);\n",
    "\t\t\n",
    "\tusing (Transaction t = new Transaction(doc,\"Rotate\"))\n",
    "\t{\n",
    "\t\tt.Start();\n",
    "\t\tElementTransformUtils.RotateElement(doc, e.Id, axis, degreesToRadians(45));\n",
    "\t\tt.Commit();\n",
    "\t}\t\n",
    "}\n",
    "\n",
    "private double degreesToRadians(double degrees)\n",
    "{\n",
    "\treturn degrees * Math.PI / 180;\n",
    "}\t"
   ]
  },
  {
   "cell_type": "markdown",
   "metadata": {},
   "source": [
    "3.10 Get workset of an element"
   ]
  },
  {
   "cell_type": "raw",
   "metadata": {},
   "source": [
    "\t\tpublic void S3_10_getElementWorkset()\n",
    "\t\t{\n",
    "\t\t\tUIDocument uidoc = this.ActiveUIDocument;\n",
    "\t\t\tDocument doc = uidoc.Document;\n",
    "\t\t\t\n",
    "\t\t\tElement e = doc.GetElement(uidoc.Selection.PickObject(ObjectType.Element));\n",
    "\t\t\tWorksetId workId = e.WorksetId;\n",
    "\t\t\tWorksetTable table = doc.GetWorksetTable();\n",
    "\t\t\tWorkset workset = table.GetWorkset(workId);\n",
    "\t\t\tTaskDialog.Show(\"Element\", e.Name + Environment.NewLine + e.Id + Environment.NewLine + workset.Name + \" - \" + workset.Owner);\n",
    "\t\t}"
   ]
  },
  {
   "cell_type": "code",
   "execution_count": null,
   "metadata": {},
   "outputs": [],
   "source": []
  }
 ],
 "metadata": {
  "kernelspec": {
   "display_name": "Python 3",
   "language": "python",
   "name": "python3"
  },
  "language_info": {
   "codemirror_mode": {
    "name": "ipython",
    "version": 3
   },
   "file_extension": ".py",
   "mimetype": "text/x-python",
   "name": "python",
   "nbconvert_exporter": "python",
   "pygments_lexer": "ipython3",
   "version": "3.8.5"
  }
 },
 "nbformat": 4,
 "nbformat_minor": 4
}

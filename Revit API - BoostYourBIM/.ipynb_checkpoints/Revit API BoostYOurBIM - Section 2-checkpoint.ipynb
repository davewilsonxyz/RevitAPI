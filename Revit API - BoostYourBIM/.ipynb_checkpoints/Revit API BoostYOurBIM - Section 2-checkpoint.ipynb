{
 "cells": [
  {
   "cell_type": "markdown",
   "metadata": {},
   "source": [
    "Section 2 .NET C# and general programming basics"
   ]
  },
  {
   "cell_type": "markdown",
   "metadata": {},
   "source": [
    "2.1 Read and write text files"
   ]
  },
  {
   "cell_type": "raw",
   "metadata": {},
   "source": [
    "public void S2_1_1_WriteTextFile()\n",
    "{\n",
    "\tstring tempPath = Path.GetTempPath();\n",
    "\t\n",
    "\tstring myDocs = Environment.GetFolderPath(Environment.SpecialFolder.MyDocuments);\n",
    "\tstring file = \"test.txt\";\n",
    "\t\n",
    "\tstring filename = Path.Combine(tempPath,file);\n",
    "\t\n",
    "\tif (File.Exists(filename))\n",
    "\t{\n",
    "\t\tFile.Delete(filename);\n",
    "\t}\n",
    "\tusing (StreamWriter writer = new StreamWriter(filename))\n",
    "\t{\n",
    "\t\twriter.WriteLine(\"1 line\");\n",
    "\t\twriter.WriteLine(\"2 line\");\n",
    "\t}\n",
    "}"
   ]
  },
  {
   "cell_type": "raw",
   "metadata": {},
   "source": [
    "public void S2_1_2_ReadTextFileFirstLine()\n",
    "{\n",
    "\tstring filename = @\"C:\\Users\\harry_000\\Desktop\\New folder\\test.txt\";\n",
    "\tusing (StreamReader reader = new StreamReader(filename))\n",
    "\t{\n",
    "\t\tTaskDialog.Show(filename, reader.ReadLine());\n",
    "\t}\n",
    "}"
   ]
  },
  {
   "cell_type": "raw",
   "metadata": {},
   "source": [
    "public void S2_1_3_ReadTextFileAll()\n",
    "{\n",
    "\tstring filename = @\"C:\\Users\\harry_000\\Desktop\\New folder\\test.txt\";\n",
    "\t\n",
    "\tstring fileContents = \"\";\n",
    "\tusing (StreamReader reader = new StreamReader(filename))\n",
    "\t{\n",
    "\t\tstring thisLine = \"\";\n",
    "\t\twhile (thisLine != null)\n",
    "\t\t{\n",
    "\t\t\tthisLine = reader.ReadLine();\n",
    "\t\t\tfileContents += thisLine + Environment.NewLine; \n",
    "\t\t}\n",
    "\t\tTaskDialog.Show(filename, fileContents);\n",
    "\t}\n",
    "}"
   ]
  },
  {
   "cell_type": "markdown",
   "metadata": {},
   "source": [
    "2.2 Directory and path operations"
   ]
  },
  {
   "cell_type": "raw",
   "metadata": {},
   "source": [
    "        public void S2_2_1_AllFilesInFolder()\n",
    "        {\n",
    "            string files = \"\";\n",
    "            string folder = @\"C:\\ProgramData\\Autodesk\\RAC 2014\\Libraries\\US Imperial\\Structural Framing\\Steel\";\n",
    "            foreach (string filename in Directory.GetFiles(folder, \"*.rfa\"))\n",
    "            {\n",
    "                files += filename + Environment.NewLine;\n",
    "            }\n",
    "            TaskDialog.Show(\"files\",files);\n",
    "\n",
    "        }"
   ]
  },
  {
   "cell_type": "raw",
   "metadata": {},
   "source": [
    "\t\tpublic void S2_2_2_LoadAllRFAFromFolder()\n",
    "\t\t{\n",
    "\t\t\tDocument doc = this.ActiveUIDocument.Document;\n",
    "\t\t\t\n",
    "\t\t\tstring folder = @\"C:\\ProgramData\\Autodesk\\RAC 2012\\Libraries\\US Imperial\\Columns\";\n",
    "\t\t\t\n",
    "\t\t\tusing (Transaction t = new Transaction(doc, \"Load Families\"))\n",
    "\t\t\t{\n",
    "\t\t\t\tt.Start();\n",
    "\t\t\t\tforeach (string file in Directory.GetFiles(folder,\"*.rfa\"))\n",
    "\t\t\t\t{\n",
    "\t\t\t\t\tdoc.LoadFamily(file);\n",
    "\t\t\t\t}\n",
    "\t\t\t\tt.Commit();\n",
    "\t\t\t}\n",
    "\t\t}"
   ]
  },
  {
   "cell_type": "markdown",
   "metadata": {},
   "source": [
    "2.3 Read from excel into Revit API external command"
   ]
  },
  {
   "cell_type": "raw",
   "metadata": {},
   "source": [
    "https://archive.codeplex.com/?p=epplus"
   ]
  },
  {
   "cell_type": "raw",
   "metadata": {},
   "source": [
    "[Autodesk.Revit.Attributes.Transaction(Autodesk.Revit.Attributes.TransactionMode.ReadOnly)]\n",
    "public class S2_3_ReadExcel : IExternalCommand\n",
    "{\n",
    "    static AddInId appId = new AddInId(new Guid(\"4CE34AFE-E1AC-446C-8BBB-F6BE4AF892CB\"));\n",
    "    public Result Execute(ExternalCommandData commandData, ref string message, ElementSet elementSet)\n",
    "    {\n",
    "        string filename = \"\";\n",
    "        System.Windows.Forms.OpenFileDialog openDialog = new System.Windows.Forms.OpenFileDialog();\n",
    "        openDialog.InitialDirectory = Environment.GetFolderPath(Environment.SpecialFolder.MyDocuments);\n",
    "        openDialog.Filter = \"Excel Files (*.xlsx)|*.xlsx\";\n",
    "        if (openDialog.ShowDialog() == System.Windows.Forms.DialogResult.OK)\n",
    "            filename = openDialog.FileName;\n",
    "        else\n",
    "            return Result.Cancelled;\n",
    "\n",
    "        string data = \"\";\n",
    "\n",
    "        using (ExcelPackage package = new ExcelPackage(new FileInfo(filename)))\n",
    "        {\n",
    "            ExcelWorksheet sheet = package.Workbook.Worksheets[1];\n",
    "            for (int row = 1; row < 9999; row++)\n",
    "            {\n",
    "                var thisValue = sheet.Cells[row, 1].Value;\n",
    "                if (thisValue == null || thisValue.ToString() == \"\")\n",
    "                    break;\n",
    "                for (int col = 1; col < 9999; col++)\n",
    "                {\n",
    "                    thisValue = sheet.Cells[row, col].Value;\n",
    "                    if (thisValue == null || thisValue.ToString() == \"\")\n",
    "                        break;\n",
    "\n",
    "                    data += thisValue.ToString() + \",\";\n",
    "                }\n",
    "\n",
    "                data += Environment.NewLine;\n",
    "            }\n",
    "        }\n",
    "        TaskDialog.Show(\"Excel\", data);\n",
    " \n",
    "        return Result.Succeeded;\n",
    "    }\n",
    "}"
   ]
  },
  {
   "cell_type": "markdown",
   "metadata": {},
   "source": [
    "2.4 Write Revit data to Excel"
   ]
  },
  {
   "cell_type": "raw",
   "metadata": {},
   "source": [
    "[Autodesk.Revit.Attributes.Transaction(Autodesk.Revit.Attributes.TransactionMode.ReadOnly)]\n",
    "public class S2_4_WriteExcel : IExternalCommand\n",
    "{\n",
    "    static AddInId appId = new AddInId(new Guid(\"3CE34AFE-E1AC-446C-8BBB-F6BE4AF892CB\"));\n",
    "    public Result Execute(ExternalCommandData commandData, ref string message, ElementSet elementSet)\n",
    "    {\n",
    "        Document doc = commandData.Application.ActiveUIDocument.Document;\n",
    "\n",
    "        string filename = Path.Combine(Path.GetTempPath(),\"myExcelOutput.xlsx\");\n",
    "        using (ExcelPackage package = new ExcelPackage(new FileInfo(filename)))\n",
    "        {\n",
    "            ExcelWorksheet sheet = package.Workbook.Worksheets.Add(\"My Data\");\n",
    "            int row = 1;\n",
    "            foreach (Element e in new FilteredElementCollector(doc).OfClass(typeof(Wall)))\n",
    "            {\n",
    "                sheet.Cells[row, 1].Value = e.Name;\n",
    "                sheet.Cells[row, 2].Value = e.Id;\n",
    "                row++;\n",
    "            }\n",
    "            package.Save();\n",
    "        }\n",
    "        Process.Start(filename);\n",
    "        return Result.Succeeded;\n",
    "    }\n",
    "}"
   ]
  },
  {
   "cell_type": "markdown",
   "metadata": {},
   "source": [
    "2.5 Exception handling"
   ]
  },
  {
   "cell_type": "raw",
   "metadata": {},
   "source": [
    "\t\tpublic void S2_5_SelectionException()\n",
    "\t\t{\n",
    "\t\t\tUIDocument uidoc = this.ActiveUIDocument;\n",
    "\t\t\tDocument doc = uidoc.Document;\n",
    "\t\t\t\n",
    "\t\t\tReference myRef = null;\n",
    "\t\t\t\n",
    "\t\t\ttry\n",
    "\t\t\t{\n",
    "\t\t\t\tmyRef = uidoc.Selection.PickObject(ObjectType.Element);\n",
    "\t\t\t}\n",
    "\t\t\t\n",
    "\t\t\tcatch (Autodesk.Revit.Exceptions.OperationCanceledException)\n",
    "\t\t\t{\n",
    "\t\t\t\treturn;\n",
    "\t\t\t}\n",
    "\t\t\tcatch (Autodesk.Revit.Exceptions.ArgumentOutOfRangeException)\n",
    "\t\t\t{\n",
    "\n",
    "\t\t\t}\n",
    "\t\n",
    "\t\t\tif (myRef == null)\n",
    "\t\t\t\treturn;\n",
    "\t\t\t\t\n",
    "\t\t\tElement e = doc.GetElement(myRef);\n",
    "\t\t}"
   ]
  },
  {
   "cell_type": "markdown",
   "metadata": {},
   "source": [
    "2.6 Code reuse and helper functions"
   ]
  },
  {
   "cell_type": "raw",
   "metadata": {},
   "source": [
    "\t\tprivate string getFaceInfo(HostObject ho, IList<Reference> refList)\n",
    "\t\t{\n",
    "\t\t\tstring s = \"\";\n",
    "\t\t\tforeach (Reference r in refList)\n",
    "\t\t\t{\n",
    "\t\t\t\tFace f = ho.GetGeometryObjectFromReference(r) as Face;\n",
    "\t\t\t\ts += \"Face area = \" + Math.Round(f.Area) + \", \" + Environment.NewLine;\n",
    "\t\t\t\ts += \"Edge length = \";\n",
    "\t\t\t\tforeach (EdgeArray ea in f.EdgeLoops)\n",
    "\t\t\t\t{\n",
    "\t\t\t\t\tforeach (Edge e in ea)\n",
    "\t\t\t\t\t{\n",
    "\t\t\t\t\t\ts += Math.Round(e.ApproximateLength,2) + \", \";\n",
    "\t\t\t\t\t}\n",
    "\t\t\t\t}\n",
    "\t\t\t\ts += Environment.NewLine;\n",
    "\t\t\t}\n",
    "\t\t\treturn s;\n",
    "\t\t}"
   ]
  },
  {
   "cell_type": "raw",
   "metadata": {},
   "source": [
    "\t\tpublic void HostFaces()\n",
    "\t\t{\n",
    "\t\t\tDocument doc = this.ActiveUIDocument.Document;\n",
    "\t\t\tstring info = \"\";\n",
    "\t\t\tforeach (HostObject hostObj in new FilteredElementCollector(doc).OfClass(typeof(HostObject)))\n",
    "\t\t\t{\n",
    "\t\t\t\tinfo += hostObj.Name + Environment.NewLine;\n",
    "\t\t\t\ttry\n",
    "\t\t\t\t{\n",
    "\t\t\t\t\tinfo += getFaceInfo(hostObj, HostObjectUtils.GetSideFaces(hostObj, ShellLayerType.Exterior));\n",
    "\t\t\t\t}\n",
    "\t\t\t\tcatch (Autodesk.Revit.Exceptions.ArgumentException)\n",
    "\t\t\t\t{}\n",
    "\t\t\t\t\n",
    "\t\t\t\ttry\n",
    "\t\t\t\t{\n",
    "\t\t\t\t\tinfo += getFaceInfo(hostObj, HostObjectUtils.GetTopFaces(hostObj));\n",
    "\t\t\t\t}\n",
    "\t\t\t\tcatch (Autodesk.Revit.Exceptions.ArgumentException)\n",
    "\t\t\t\t{}\n",
    "\t\t\t\t\n",
    "\t\t\t\ttry\n",
    "\t\t\t\t{\n",
    "\t\t\t\t\tinfo += getFaceInfo(hostObj, HostObjectUtils.GetBottomFaces(hostObj));\n",
    "\t\t\t\t}\n",
    "\t\t\t\tcatch (Autodesk.Revit.Exceptions.ArgumentException)\n",
    "\t\t\t\t{}\n",
    "\t\t\t\t\n",
    "\t\t\t\tinfo += Environment.NewLine + Environment.NewLine;\n",
    "\t\t\t}\n",
    "\t\t\tTaskDialog.Show(\"Host Objects\", info);\n",
    "\t\t}\n",
    "\t}"
   ]
  },
  {
   "cell_type": "markdown",
   "metadata": {},
   "source": [
    "2.7 Obselete members"
   ]
  },
  {
   "cell_type": "markdown",
   "metadata": {},
   "source": [
    "2.8 Creating windows forms for user input"
   ]
  },
  {
   "cell_type": "raw",
   "metadata": {},
   "source": [
    "using System;\n",
    "using System.Collections.Generic;\n",
    "using System.ComponentModel;\n",
    "using System.Data;\n",
    "using System.Drawing;\n",
    "using System.Linq;\n",
    "using System.Text;\n",
    "using System.Threading.Tasks;\n",
    "using System.Windows.Forms;\n",
    "\n",
    "namespace BoostYourBIMAPITraining\n",
    "{\n",
    "    public partial class myNewForm : Form\n",
    "    {\n",
    "        public myNewForm()\n",
    "        {\n",
    "            InitializeComponent();\n",
    "        }\n",
    "\n",
    "        private void btnOK_Click(object sender, EventArgs e)\n",
    "        {\n",
    "            this.DialogResult = DialogResult.OK;\n",
    "            Close();\n",
    "        }\n",
    "\n",
    "        private void btnCancel_Click(object sender, EventArgs e)\n",
    "        {\n",
    "            Close();\n",
    "        }\n",
    "\n",
    "        public bool isHoriztonal()\n",
    "        {\n",
    "            if (rdoHorizontal.Checked)\n",
    "                return true;\n",
    "            else\n",
    "                return false;\n",
    "        }\n",
    "\n",
    "        public double getDistance()\n",
    "        {\n",
    "            double d;\n",
    "            Double.TryParse(txtDistance.Text, out d);\n",
    "            return d;\n",
    "        }\n",
    "\n",
    "    }\n",
    "}"
   ]
  },
  {
   "cell_type": "raw",
   "metadata": {},
   "source": [
    "[Autodesk.Revit.Attributes.Transaction(Autodesk.Revit.Attributes.TransactionMode.Manual)]\n",
    "public class basicForm : IExternalCommand\n",
    "{\n",
    "    static AddInId appId = new AddInId(new Guid(\"1CE34AFE-E1AC-446C-8BBB-F6BE4AF892CB\"));\n",
    "    public Result Execute(ExternalCommandData commandData, ref string message, ElementSet elementSet)\n",
    "    {\n",
    "        UIDocument uidoc = commandData.Application.ActiveUIDocument;\n",
    "        Document doc = uidoc.Document;\n",
    "        Element e = doc.GetElement(uidoc.Selection.PickObject(ObjectType.Element));\n",
    "\n",
    "        double distance = 0;\n",
    "        bool isHoriz = false;\n",
    "\n",
    "        using (myNewForm thisForm = new myNewForm())\n",
    "        {\n",
    "            thisForm.ShowDialog();\n",
    "            if (thisForm.DialogResult == System.Windows.Forms.DialogResult.Cancel)\n",
    "            {\n",
    "                return Result.Cancelled;\n",
    "            }\n",
    "            distance = thisForm.getDistance();\n",
    "            isHoriz = thisForm.isHoriztonal();\n",
    "        }\n",
    "\n",
    "        XYZ moveVector = null;\n",
    "        if (isHoriz)\n",
    "            moveVector = XYZ.BasisX.Multiply(distance);\n",
    "        else\n",
    "            moveVector = XYZ.BasisY.Multiply(distance);\n",
    "\n",
    "        using (Transaction t = new Transaction(doc, \"Move Object\"))\n",
    "        {\n",
    "            t.Start();\n",
    "            ElementTransformUtils.MoveElement(doc, e.Id, moveVector);\n",
    "            t.Commit();\n",
    "        }\n",
    "\n",
    "        return Result.Succeeded;\n",
    "    }\n",
    "}"
   ]
  }
 ],
 "metadata": {
  "kernelspec": {
   "display_name": "Python 3",
   "language": "python",
   "name": "python3"
  },
  "language_info": {
   "codemirror_mode": {
    "name": "ipython",
    "version": 3
   },
   "file_extension": ".py",
   "mimetype": "text/x-python",
   "name": "python",
   "nbconvert_exporter": "python",
   "pygments_lexer": "ipython3",
   "version": "3.8.5"
  }
 },
 "nbformat": 4,
 "nbformat_minor": 4
}

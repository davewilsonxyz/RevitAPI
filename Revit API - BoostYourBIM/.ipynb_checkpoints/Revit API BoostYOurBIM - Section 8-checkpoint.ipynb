{
 "cells": [
  {
   "cell_type": "markdown",
   "metadata": {},
   "source": [
    "Section 8  - Responses to questions"
   ]
  },
  {
   "cell_type": "markdown",
   "metadata": {},
   "source": [
    "8.1 Code samples"
   ]
  },
  {
   "cell_type": "raw",
   "metadata": {},
   "source": [
    "\t\t//Dimension Values\n",
    "        public void dimStrings()\n",
    "\t\t{\n",
    "\t\t\tDocument doc = this.ActiveUIDocument.Document;\n",
    "\t\t\tUIDocument uidoc = this.ActiveUIDocument;\n",
    "\t\t\t\n",
    "\t\t\tstring s = \"\";\n",
    "\t\t\tforeach (Element e in uidoc.Selection.Elements)\n",
    "\t\t\t{\n",
    "\t\t\t\tif (e is Dimension)\n",
    "\t\t\t\t{\n",
    "\t\t\t\t\tDimension d = e as Dimension;\n",
    "\t\t\t\t\tif (d.NumberOfSegments > 1)\n",
    "\t\t\t\t\t{\n",
    "\t\t\t\t\t\tforeach (DimensionSegment ds in d.Segments)\n",
    "\t\t\t\t\t\t{\n",
    "\t\t\t\t\t\t\ts += ds.ValueString + \", \";\n",
    "\t\t\t\t\t\t}\n",
    "\t\t\t\t\t\ts += \"\\n\";\n",
    "\t\t\t\t\t}\n",
    "\t\t\t\t\telse\n",
    "\t\t\t\t\t\ts += d.ValueString + \"\\n\";\n",
    "\t\t\t\t}\n",
    "\t\t\t}\n",
    "\t\t\tTaskDialog.Show(\"Dim\",s);\n",
    "\t\t}"
   ]
  },
  {
   "cell_type": "raw",
   "metadata": {},
   "source": [
    "//Get BuiltInCategory of selected element\n",
    "public void getBicOfSelectedElement()\n",
    "{\n",
    "\tUIDocument uidoc = this.ActiveUIDocument;\n",
    "\tDocument doc = uidoc.Document;\n",
    "\tCategory catOfSelectedElement = doc.GetElement(uidoc.Selection.PickObject(ObjectType.Element)).Category;\n",
    "\t\n",
    "\tforeach (BuiltInCategory bic in Enum.GetValues(typeof(BuiltInCategory)))\n",
    "\t{\n",
    "\t\ttry\n",
    "\t\t{\n",
    "\t\t\tCategory catFromBic = doc.Settings.Categories.get_Item(bic);\n",
    "\t\t\tif (catFromBic != null && catFromBic.Id == catOfSelectedElement.Id)\n",
    "\t\t\t{\n",
    "\t\t\t\tTaskDialog.Show(\"Built In Category\",bic.ToString());\n",
    "\t\t\t\tbreak;\n",
    "\t\t\t}\n",
    "\t\t}\n",
    "\t\tcatch{}\n",
    "\t}\n",
    "}"
   ]
  },
  {
   "cell_type": "markdown",
   "metadata": {},
   "source": [
    "8.2 File version check"
   ]
  },
  {
   "cell_type": "code",
   "execution_count": null,
   "metadata": {},
   "outputs": [],
   "source": [
    "Notes"
   ]
  },
  {
   "cell_type": "markdown",
   "metadata": {},
   "source": [
    "8.3 Topo from lines"
   ]
  },
  {
   "cell_type": "code",
   "execution_count": null,
   "metadata": {},
   "outputs": [],
   "source": [
    "Notes"
   ]
  }
 ],
 "metadata": {
  "kernelspec": {
   "display_name": "Python 3",
   "language": "python",
   "name": "python3"
  },
  "language_info": {
   "codemirror_mode": {
    "name": "ipython",
    "version": 3
   },
   "file_extension": ".py",
   "mimetype": "text/x-python",
   "name": "python",
   "nbconvert_exporter": "python",
   "pygments_lexer": "ipython3",
   "version": "3.8.5"
  }
 },
 "nbformat": 4,
 "nbformat_minor": 4
}

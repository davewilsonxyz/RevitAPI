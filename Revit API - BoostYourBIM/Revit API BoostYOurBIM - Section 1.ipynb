{
 "cells": [
  {
   "cell_type": "markdown",
   "metadata": {},
   "source": [
    "Section 1 - Revit API Basics"
   ]
  },
  {
   "cell_type": "markdown",
   "metadata": {},
   "source": [
    "1.1 A Simple Macro"
   ]
  },
  {
   "cell_type": "raw",
   "metadata": {},
   "source": [
    "https://boostyourbim.wordpress.com/2013/02/16/download-links-for-the-revitapi-help-files/"
   ]
  },
  {
   "cell_type": "raw",
   "metadata": {},
   "source": [
    "\t\tpublic void S1_1_SimpleDialog()\n",
    "\t\t{\n",
    "\t\t\tTaskDialog.Show(\"This is the title\", \"Welcome to your first dialog!\");\n",
    "\t\t}"
   ]
  },
  {
   "cell_type": "markdown",
   "metadata": {},
   "source": [
    "https://www.autodesk.com/developer-network/platform-technologies/revit"
   ]
  },
  {
   "cell_type": "markdown",
   "metadata": {},
   "source": [
    "1.2 Prompt user to select element and get element info"
   ]
  },
  {
   "cell_type": "raw",
   "metadata": {},
   "source": [
    "public void S1_2_selectElement()\n",
    "\t\t{\n",
    "\t\t\t//This is the database document. This stores information about the individual document file i.e. elements in the model, worksets, parameters etc...\n",
    "\t\t\tDocument doc = Document;\n",
    "\t\t\t\n",
    "\t\t\t//is information about how the user interacts with the revit file i.e. view windows and selection of model elements in those windows. \n",
    "\t\t\tUIDocument uidoc = new UIDocument(doc);\n",
    "\t\t\t\t\n",
    "\t\t\t//Prompt a user to select a object. This returns a reference to the element. Look at SDK. \n",
    "\t\t\tReference myRef = uidoc.Selection.PickObject(ObjectType.Element);\n",
    "\t\t\t\n",
    "\t\t\t//Get the element itself. \n",
    "\t\t\tElement e = Document.GetElement(myRef);\n",
    "\t\t\t\n",
    "\t\t\t//this is the error handling if it doesnt have a design option. \n",
    "\t\t\tstring designOptionName = \"<none>\";\n",
    "\t\t\t\n",
    "\t\t\tif (e.DesignOption != null)\n",
    "\t\t\t{\n",
    "\t\t\t\tdesignOptionName = e.DesignOption.Name;\t\n",
    "\t\t\t}\n",
    "\t\t\t\n",
    "\t\t\tTaskDialog.Show(\"Element Info\", e.Name + Environment.NewLine + e.Id + Environment.NewLine + e.Category.Name + Environment.NewLine + e.Location + Environment.NewLine + designOptionName);\n",
    "\t\t}"
   ]
  },
  {
   "cell_type": "markdown",
   "metadata": {},
   "source": [
    "1.3 Prompt user to select edge or face and get edge or face info"
   ]
  },
  {
   "cell_type": "raw",
   "metadata": {},
   "source": [
    "public void S1_3_selectEdge()\n",
    "\t\t{\n",
    "\t\t\tDocument doc = Document;\n",
    "\t\t\tUIDocument uidoc = new UIDocument(doc);\n",
    "\t\t\tReference myRef = uidoc.Selection.PickObject(ObjectType.Edge);\n",
    "\t\t\tElement e = Document.GetElement(myRef);\n",
    "\t\t\t\n",
    "\t\t\t//Geometry object is the parent class to many objects such as curve, edge, face, mesh, point, polyline etc\n",
    "\t\t\tGeometryObject geomObj = e.GetGeometryObjectFromReference(myRef);\n",
    "\t\t\t\n",
    "\t\t\t//Cast the geometry onject to a edge \n",
    "\t\t\tEdge edge = geomObj as Edge;\n",
    "\t\t\t\n",
    "\t\t\tTaskDialog.Show(\"Element Info\", e.Name + Environment.NewLine + e.Id + Environment.NewLine + edge.ApproximateLength);\n",
    "\t\t}"
   ]
  },
  {
   "cell_type": "raw",
   "metadata": {},
   "source": [
    "\t\tpublic void S1_3_selectFace()\n",
    "\t\t{\n",
    "\t\t\t\t\t\tDocument doc = Document;\n",
    "\t\t\tUIDocument uidoc = new UIDocument(doc);\n",
    "\t\t\tReference myRef = uidoc.Selection.PickObject(ObjectType.Face);\n",
    "\t\t\tElement e = Document.GetElement(myRef);\n",
    "\t\t\t\n",
    "\t\t\t//Geometry object is the parent class to many objects such as curve, edge, face, mesh, point, polyline etc\n",
    "\t\t\tGeometryObject geomObj = e.GetGeometryObjectFromReference(myRef);\n",
    "\t\t\t\n",
    "\t\t\t//Cast the geometry onject to a edge \n",
    "\t\t\tFace face = geomObj as Face;\n",
    "\t\t\t\n",
    "\t\t\tTaskDialog.Show(\"Element Info\", e.Name + Environment.NewLine + e.Id + Environment.NewLine + face.Area);\n",
    "\t\t}"
   ]
  },
  {
   "cell_type": "markdown",
   "metadata": {},
   "source": [
    "1.4 Selection - getting and setting selected elements"
   ]
  },
  {
   "cell_type": "raw",
   "metadata": {},
   "source": [
    "\t\tpublic void S1_4_1_setSelectElements()\n",
    "\t\t{\n",
    "\t\t\tDocument doc = Document;\n",
    "\t\t\tUIDocument uidoc = new UIDocument(doc);\n",
    "\t\t\tICollection<ElementId> walls  = new FilteredElementCollector(doc).OfClass(typeof(Wall)).ToElementIds();\n",
    "\t\t\tuidoc.Selection.SetElementIds(walls);\n",
    "\t\t}"
   ]
  },
  {
   "cell_type": "raw",
   "metadata": {},
   "source": [
    "\t\tpublic void S1_4_2_selectedElements()\n",
    "\t\t{\n",
    "\t\t\tDocument doc = Document;\n",
    "\t\t\tUIDocument uidoc = new UIDocument(doc);\n",
    "\t\t\tICollection<ElementId> selectedIds = uidoc.Selection.GetElementIds();\n",
    "\t\t\tstring s = \"\";\n",
    "\t\t\tforeach (ElementId id in selectedIds)\n",
    "\t\t\t{\n",
    "\t\t\t\tElement e = doc.GetElement(id);\n",
    "\t\t\t\ts += e.Name + Environment.NewLine;\n",
    "\t\t\t}\n",
    "\t\t\tTaskDialog.Show(\"Elements\", selectedIds.Count + Environment.NewLine + s);"
   ]
  },
  {
   "cell_type": "markdown",
   "metadata": {},
   "source": [
    "1.5 Find elements - Filtered element collector 1"
   ]
  },
  {
   "cell_type": "raw",
   "metadata": {},
   "source": [
    "C# ienumerable examples\n",
    "\n",
    "https://www.dotnetperls.com/ienumerable"
   ]
  },
  {
   "cell_type": "raw",
   "metadata": {},
   "source": [
    "IEnumerable<T> Interface\n",
    "\n",
    "https://docs.microsoft.com/en-us/dotnet/api/system.collections.generic.ienumerable-1?redirectedfrom=MSDN&view=net-5.0"
   ]
  },
  {
   "cell_type": "code",
   "execution_count": null,
   "metadata": {},
   "outputs": [],
   "source": [
    "Typeof\n",
    "\n",
    "https://www.dotnetperls.com/typeof"
   ]
  },
  {
   "cell_type": "raw",
   "metadata": {},
   "source": [
    "\t\tpublic void S1_5_findElements()\n",
    "\t\t{\n",
    "\t\t\tDocument doc = this.ActiveUIDocument.Document;\n",
    "\t\t\tstring info = \"\";\n",
    "\t\t\t\n",
    "\t\t\tElementCategoryFilter doorFilter = new ElementCategoryFilter(BuiltInCategory.OST_Doors);\n",
    "\t\t\tElementCategoryFilter windowFilter = new ElementCategoryFilter(BuiltInCategory.OST_Windows);\n",
    "\t\t\tLogicalOrFilter orFilter = new LogicalOrFilter(doorFilter, windowFilter);\n",
    "\t\t\t\n",
    "\t\t\tIList<BuiltInCategory> catList = new List<BuiltInCategory>();\n",
    "\t\t\tcatList.Add(BuiltInCategory.OST_Doors);\n",
    "\t\t\tcatList.Add(BuiltInCategory.OST_Windows);\n",
    "\t\t\tElementMulticategoryFilter multiCatFilter = new ElementMulticategoryFilter(catList);\n",
    "\t\t\t\n",
    "\t\t\tforeach (Element e in new FilteredElementCollector(doc)\n",
    "\t\t\t         .OfClass(typeof(FamilyInstance))\n",
    "\t\t\t         .WherePasses(multiCatFilter))\n",
    "\t\t\t{\n",
    "\t\t\t\tFamilyInstance fi = e as FamilyInstance;\n",
    "\t\t\t\tFamilySymbol fs = fi.Symbol;\n",
    "\t\t\t\tFamily family = fs.Family;\n",
    "\t\t\t\tinfo += family.Name + \": \" + fs.Name + \": \" + fi.Name + Environment.NewLine;\n",
    "\t\t\t}\n",
    "\t\t\tTaskDialog.Show(\"elements\",info);\n",
    "\t\t}"
   ]
  },
  {
   "cell_type": "markdown",
   "metadata": {},
   "source": [
    "1.6  Find elements - Filtered element collector 2"
   ]
  },
  {
   "cell_type": "raw",
   "metadata": {},
   "source": [
    "\t\tpublic void S1_6_roomFilter()\n",
    "\t\t{\n",
    "\t\t\tDocument doc = this.ActiveUIDocument.Document;\n",
    "\t\t\tElementClassFilter classFilter = new ElementClassFilter(typeof(SpatialElement));\n",
    "\t\t\tstring text = \"\";\n",
    "\t\t\t\n",
    "\t\t\t// another option is to use the RoomFilter class\n",
    "\t\t\tforeach (Element e in new FilteredElementCollector(doc)\n",
    "\t\t\t         .OfCategory(BuiltInCategory.OST_Rooms)\n",
    "\t\t\t         .WherePasses(classFilter))\n",
    "\t\t\t{\n",
    "\t\t\t\ttext += e.Name + Environment.NewLine;\n",
    "\t\t\t}\n",
    "\t\t\tTaskDialog.Show(\"Text\",text);\n",
    "\t\t}\n",
    "\t\t\n",
    "\t\tpublic void boundingBoxFilter()\n",
    "\t\t{\n",
    "\t\t\tDocument doc = this.ActiveUIDocument.Document;\n",
    "\t\t\tUIDocument uidoc = this.ActiveUIDocument;\n",
    "\n",
    "\t\t\tXYZ pt1 = uidoc.Selection.PickPoint();\n",
    "\t\t\tXYZ pt2 = uidoc.Selection.PickPoint();\n",
    "\t\t\t\n",
    "\t\t\tOutline outline = new Outline(pt1, pt2);\n",
    "\t\t\t\n",
    "\t\t\tBoundingBoxIntersectsFilter bboxFilter = new BoundingBoxIntersectsFilter(outline);\n",
    "\t\t\t\n",
    "\t\t\tstring text = \"\";\n",
    "\t\t\tforeach (Element e in new FilteredElementCollector(doc).WherePasses(bboxFilter))\n",
    "\t\t\t{\n",
    "\t\t\t\ttext += e.Name + Environment.NewLine;\n",
    "\t\t\t}\n",
    "\t\t\tTaskDialog.Show(\"Text\",text);\n",
    "\t\t}"
   ]
  },
  {
   "cell_type": "markdown",
   "metadata": {},
   "source": [
    "1.7 Find elements - LINQ queries"
   ]
  },
  {
   "cell_type": "raw",
   "metadata": {},
   "source": [
    "LINQ (Language-Integrated Query)\n",
    "\n",
    "https://docs.microsoft.com/en-us/previous-versions/bb397926(v=vs.140)?redirectedfrom=MSDN"
   ]
  },
  {
   "cell_type": "raw",
   "metadata": {},
   "source": [
    "LINQ query examples\n",
    "\n",
    "https://docs.microsoft.com/en-us/powerapps/developer/data-platform/org-service/linq-query-examples"
   ]
  },
  {
   "cell_type": "raw",
   "metadata": {},
   "source": [
    "\t\tpublic void S1_7_findDoorElements()\n",
    "\t\t{\n",
    "\t\t\tDocument doc = this.ActiveUIDocument.Document;\n",
    "\t\t\tstring info = \"\";\n",
    "\t\t\t\n",
    "\t\t\tforeach (FamilyInstance fi in new FilteredElementCollector(doc)\n",
    "\t\t\t         .OfClass(typeof(FamilyInstance))\n",
    "\t\t\t         .OfCategory(BuiltInCategory.OST_Doors)\n",
    "\t\t\t         .Cast<FamilyInstance>()\n",
    "\t\t\t         .Where(m => m.Symbol.Family.Name.Contains(\"Double\"))\n",
    "\t\t\t        )\n",
    "\t\t\t{\n",
    "\t\t\t\tFamilySymbol fs = fi.Symbol;\n",
    "\t\t\t\tFamily family = fs.Family;\n",
    "\t\t\t\tinfo += family.Name + \": \" + fs.Name + \": \" + fi.Name + Environment.NewLine;\n",
    "\t\t\t}\n",
    "\t\t\tTaskDialog.Show(\"elements\",info);\n",
    "\t\t}"
   ]
  },
  {
   "cell_type": "markdown",
   "metadata": {},
   "source": [
    "1.8 Find drafting views that contain a CAD link"
   ]
  },
  {
   "cell_type": "raw",
   "metadata": {},
   "source": [
    "// can you filter the Drafting Views that have CADlink elements?\n",
    "\n",
    "public void S1_8_draftingViewsWithLinks()\n",
    "{\n",
    "\tDocument doc = this.ActiveUIDocument.Document;\n",
    "\t\n",
    "\tIEnumerable<Element> allImports = new FilteredElementCollector(doc)\n",
    "\t\t.OfClass(typeof(ImportInstance));\n",
    "\n",
    "\t// By adding the Cast, the imports are converted from the more generic 'Element' class\n",
    "\t// to the ImportInstance class\n",
    "\t// This lets us access the ImportInstance.IsLinked Property \n",
    "\tIEnumerable<Element> allImportsThatAreLinked = new FilteredElementCollector(doc)\n",
    "\t\t.OfClass(typeof(ImportInstance))\n",
    "\t\t.Cast<ImportInstance>()\n",
    "\t\t.Where(q => q.IsLinked);\n",
    "\t\t\t\t\t\t\n",
    "\t// Here the Where clause is expanded so that the results contain only the ImportInstances\n",
    "\t// whose 'owner view' is a drafting view\n",
    "\tIEnumerable<Element> allImportsThatAreLinkedAndOwnedByDraftingViews = new FilteredElementCollector(doc)\n",
    "\t\t.OfClass(typeof(ImportInstance))\n",
    "\t\t.Cast<ImportInstance>()\n",
    "\t\t.Where(q => q.IsLinked && doc.GetElement(q.OwnerViewId) is ViewDrafting);\n",
    "\t\n",
    "\t// Adding the Select clause changes what items the list contains\n",
    "\t// Instead of getting a list of imports, we now get a list of the Views that own the imports\n",
    "\t// https://www.dotnetperls.com/select\n",
    "\t// https://www.tutorialspoint.com/chash-linq-select-method\n",
    "\tIEnumerable<Element> viewsThatContainLinkedImports = new FilteredElementCollector(doc)\n",
    "\t\t.OfClass(typeof(ImportInstance))\n",
    "\t\t.Cast<ImportInstance>()\n",
    "\t\t.Where(q => q.IsLinked && doc.GetElement(q.OwnerViewId) is ViewDrafting)\n",
    "\t\t.Select(q => doc.GetElement(q.OwnerViewId));\n",
    "\n",
    "//\t\t\t A view can have more than one linked import, so Distinct is used to remove duplicates\n",
    "//\t\t\t string.Join returns a string that has the delimiter inserted between each item in the list\n",
    "\t TaskDialog.Show(\"Views\", string.Join(\",\", viewsThatContainLinkedImports.Select(q => q.Name).Distinct()));\n",
    "}"
   ]
  },
  {
   "cell_type": "markdown",
   "metadata": {},
   "source": [
    "1.9 Create an external command"
   ]
  },
  {
   "cell_type": "raw",
   "metadata": {},
   "source": [
    "<?xml version=\"1.0\" encoding=\"utf-8\" standalone=\"no\"?>\n",
    "<RevitAddIns>\n",
    "\t<AddIn Type=\"Command\">\n",
    "\t\t<Assembly>C:\\Users\\harry_000\\Documents\\repos\\BoostYourBIMAPITraining\\BoostYourBIMAPITraining\\bin\\Debug\\BoostYourBIMAPITraining.dll</Assembly>\n",
    "\t\t<AddInId>5CE34AFE-E1AC-446C-8BBB-F6BE4AF892CB</AddInId>\n",
    "\t\t<FullClassName>BoostYourBIMAPITraining.ShowADialog</FullClassName>\n",
    "\t\t<Text>Show A Dialog</Text>\n",
    "\t\t<VendorId>BYBM</VendorId>\n",
    "\t</AddIn>\n",
    "</RevitAddIns>"
   ]
  },
  {
   "cell_type": "raw",
   "metadata": {},
   "source": [
    "[Autodesk.Revit.Attributes.Transaction(Autodesk.Revit.Attributes.TransactionMode.ReadOnly)]\n",
    "public class S1_9_ShowADialog : IExternalCommand\n",
    "{\n",
    "\tstatic AddInId appId = new AddInId(new Guid(\"5CE34AFE-E1AC-446C-8BBB-F6BE4AF892CB\"));\n",
    "\tpublic Result Execute(ExternalCommandData commandData, ref string message, ElementSet elementSet)\n",
    "\t{\n",
    "\t\tTaskDialog.Show(\"hello\", \"I am an external command\");\n",
    "\t\treturn Result.Succeeded;\n",
    "\t}\n",
    "}"
   ]
  },
  {
   "cell_type": "markdown",
   "metadata": {},
   "source": [
    "1.10 Family types and parameters"
   ]
  },
  {
   "cell_type": "raw",
   "metadata": {},
   "source": [
    "\t\tpublic void S1_10_FamilyTypesParameters()\n",
    "\t\t{\n",
    "\t\t\tDocument doc = this.ActiveUIDocument.Document;\n",
    "\t\t\tif (!doc.IsFamilyDocument)\n",
    "\t\t\t{\n",
    "\t\t\t\treturn;\n",
    "\t\t\t}\n",
    "\t\t\t\n",
    "\t\t\tusing (Transaction t = new Transaction(doc, \"family test\"))\n",
    "\t\t\t{\n",
    "\t\t\t\tt.Start();\n",
    "\t\t\t\tFamilyManager mgr = doc.FamilyManager;\n",
    "\t\t\t\t\n",
    "\t\t\t\tFamilyParameter param = mgr.AddParameter(\"New Parameter\", BuiltInParameterGroup.PG_DATA, ParameterType.Text, false);\n",
    "\t\t\t\t\n",
    "\t\t\t\tfor (int i = 1; i < 5; i++)\n",
    "\t\t\t\t{\n",
    "\t\t\t\t\tFamilyType newType = mgr.NewType(i.ToString());\n",
    "\t\t\t\t\tmgr.CurrentType = newType;\n",
    "\t\t\t\t\tmgr.Set(param, \"this value \" + i);\n",
    "\t\t\t\t}\n",
    "\t\t\t\t\n",
    "\t\t\t\tt.Commit();\n",
    "\t\t\t}\n",
    "\t\t}"
   ]
  },
  {
   "cell_type": "raw",
   "metadata": {},
   "source": [
    "public void newtype()\n",
    "{\n",
    "\tDocument doc = this.ActiveUIDocument.Document;\n",
    "\tusing (Transaction t = new Transaction(doc, \"family test\"))\n",
    "\t{\n",
    "\t\tt.Start();\n",
    "\t\tFamilyManager mgr = doc.FamilyManager;\n",
    "\t\t\n",
    "\t\t\n",
    "\t\tstring parameterName = \"New Parameter\";\n",
    "\t\t\n",
    "\t\t// get the family parameter with this name, if it exists\n",
    "\t\tFamilyParameter param = mgr.Parameters.Cast<FamilyParameter>().FirstOrDefault(q => q.Definition.Name == parameterName);\n",
    "\t\t// FirstOrDefault returns null if the parameter doesn't exist - in that case, create the family parameter\n",
    "\t\tif (param == null)\n",
    "\t\t{\n",
    "\t\t\tparam = mgr.AddParameter(\"New Parameter\", BuiltInParameterGroup.PG_DATA, ParameterType.Text, false);\n",
    "\t\t}\n",
    "\t\t\n",
    "\t\tfor (int i = 1; i < 5; i++)\n",
    "\t\t{\n",
    "\t\t\tstring newTypeName = i.ToString();\n",
    "\t\t\t\n",
    "\t\t\t// check if a family type exists with this name\n",
    "\t\t\tFamilyType newType = mgr.Types.Cast<FamilyType>().FirstOrDefault(q => q.Name == newTypeName);\n",
    "\t\t\t// FirstOrDefault returns null if the FamilyType does not exist - in that case, create the FamilyType\n",
    "\t\t\tif (newType == null)\n",
    "\t\t\t\tnewType = mgr.NewType(i.ToString());\n",
    "\t\t\t\n",
    "\t\t\tmgr.CurrentType = newType;\n",
    "\t\t\tmgr.Set(param, \"this value \" + i);\n",
    "\t\t}\n",
    "\t\t\n",
    "\t\tt.Commit();\n",
    "\t}\n",
    "}"
   ]
  },
  {
   "cell_type": "markdown",
   "metadata": {},
   "source": [
    "1.11 Get line length and convert units"
   ]
  },
  {
   "cell_type": "raw",
   "metadata": {},
   "source": [
    "Difference Between IEnumerable, ICollection And IList Interface\n",
    "\n",
    "https://www.c-sharpcorner.com/UploadFile/78607b/difference-between-ienumerable-icollection-and-ilist-interf/"
   ]
  },
  {
   "cell_type": "raw",
   "metadata": {},
   "source": [
    "\t\tpublic void S1_11_LineLength()\n",
    "\t\t{\n",
    "\t\t\tDocument doc = this.ActiveUIDocument.Document;\n",
    "\t\t\tUIDocument uidoc = this.ActiveUIDocument;\n",
    "\t\t\tICollection<ElementId> ids = uidoc.Selection.GetElementIds();\n",
    "\t\t\tIEnumerable<Element> elements = ids.Select(q => doc.GetElement(q));\n",
    "\t\t\tdouble total = 0;\n",
    "\t\t\tforeach (Element e in elements)\n",
    "\t\t\t{\n",
    "\t\t\t\tParameter lengthParam = e.get_Parameter(BuiltInParameter.CURVE_ELEM_LENGTH);\n",
    "\t\t\t\tif (lengthParam == null)\n",
    "\t\t\t\t\tcontinue;\n",
    "\t\t\t\tdouble length = lengthParam.AsDouble();\n",
    "\t\t\t\ttotal += length;\n",
    "\t\t\t}\n",
    "\t\t\tdouble doubleConverted = UnitUtils.ConvertFromInternalUnits(\n",
    "\t\t\t\ttotal,\n",
    "\t\t\t\tdoc.GetUnits().GetFormatOptions(UnitType.UT_Length).DisplayUnits);\n",
    "\t\t\tTaskDialog.Show(\"Total Length\", total.ToString() + Environment.NewLine + doubleConverted);\n",
    "\t\t}"
   ]
  }
 ],
 "metadata": {
  "kernelspec": {
   "display_name": "Python 3",
   "language": "python",
   "name": "python3"
  },
  "language_info": {
   "codemirror_mode": {
    "name": "ipython",
    "version": 3
   },
   "file_extension": ".py",
   "mimetype": "text/x-python",
   "name": "python",
   "nbconvert_exporter": "python",
   "pygments_lexer": "ipython3",
   "version": "3.8.5"
  }
 },
 "nbformat": 4,
 "nbformat_minor": 4
}

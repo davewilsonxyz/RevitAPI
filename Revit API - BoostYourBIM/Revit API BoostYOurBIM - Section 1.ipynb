{
 "cells": [
  {
   "cell_type": "markdown",
   "metadata": {},
   "source": [
    "Section 1 - Revit API Basics"
   ]
  },
  {
   "cell_type": "markdown",
   "metadata": {},
   "source": [
    "1.1 A Simple Macro"
   ]
  },
  {
   "cell_type": "raw",
   "metadata": {},
   "source": [
    "\t\tpublic void S1_1_SimpleDialog()\n",
    "\t\t{\n",
    "\t\t\tTaskDialog.Show(\"This is the title\", \"Welcome to your first dialog!\");\n",
    "\t\t}"
   ]
  },
  {
   "cell_type": "markdown",
   "metadata": {},
   "source": [
    "https://www.autodesk.com/developer-network/platform-technologies/revit"
   ]
  },
  {
   "cell_type": "markdown",
   "metadata": {},
   "source": [
    "1.2 Prompt user to select element and get element info"
   ]
  },
  {
   "cell_type": "raw",
   "metadata": {},
   "source": [
    "public void S1_2_selectElement()\n",
    "\t\t{\n",
    "\t\t\t//This is the database document. This stores information about the individual document file i.e. elements in the model, worksets, parameters etc...\n",
    "\t\t\tDocument doc = Document;\n",
    "\t\t\t\n",
    "\t\t\t//is information about how the user interacts with the revit file i.e. view windows and selection of model elements in those windows. \n",
    "\t\t\tUIDocument uidoc = new UIDocument(doc);\n",
    "\t\t\t\t\n",
    "\t\t\t//Prompt a user to select a object. This returns a reference to the element. Look at SDK. \n",
    "\t\t\tReference myRef = uidoc.Selection.PickObject(ObjectType.Element);\n",
    "\t\t\t\n",
    "\t\t\t//Get the element itself. \n",
    "\t\t\tElement e = Document.GetElement(myRef);\n",
    "\t\t\t\n",
    "\t\t\t//this is the error handling if it doesnt have a design option. \n",
    "\t\t\tstring designOptionName = \"<none>\";\n",
    "\t\t\t\n",
    "\t\t\tif (e.DesignOption != null)\n",
    "\t\t\t{\n",
    "\t\t\t\tdesignOptionName = e.DesignOption.Name;\t\n",
    "\t\t\t}\n",
    "\t\t\t\n",
    "\t\t\tTaskDialog.Show(\"Element Info\", e.Name + Environment.NewLine + e.Id + Environment.NewLine + e.Category.Name + Environment.NewLine + e.Location + Environment.NewLine + designOptionName);\n",
    "\t\t}"
   ]
  },
  {
   "cell_type": "markdown",
   "metadata": {},
   "source": [
    "1.3 Prompt user to select edge or face and get edge or face info"
   ]
  },
  {
   "cell_type": "raw",
   "metadata": {},
   "source": [
    "public void S1_3_selectEdge()\n",
    "\t\t{\n",
    "\t\t\tDocument doc = Document;\n",
    "\t\t\tUIDocument uidoc = new UIDocument(doc);\n",
    "\t\t\tReference myRef = uidoc.Selection.PickObject(ObjectType.Edge);\n",
    "\t\t\tElement e = Document.GetElement(myRef);\n",
    "\t\t\t\n",
    "\t\t\t//Geometry object is the parent class to many objects such as curve, edge, face, mesh, point, polyline etc\n",
    "\t\t\tGeometryObject geomObj = e.GetGeometryObjectFromReference(myRef);\n",
    "\t\t\t\n",
    "\t\t\t//Cast the geometry onject to a edge \n",
    "\t\t\tEdge edge = geomObj as Edge;\n",
    "\t\t\t\n",
    "\t\t\tTaskDialog.Show(\"Element Info\", e.Name + Environment.NewLine + e.Id + Environment.NewLine + edge.ApproximateLength);\n",
    "\t\t}"
   ]
  },
  {
   "cell_type": "raw",
   "metadata": {},
   "source": [
    "\t\tpublic void S1_3_selectFace()\n",
    "\t\t{\n",
    "\t\t\t\t\t\tDocument doc = Document;\n",
    "\t\t\tUIDocument uidoc = new UIDocument(doc);\n",
    "\t\t\tReference myRef = uidoc.Selection.PickObject(ObjectType.Face);\n",
    "\t\t\tElement e = Document.GetElement(myRef);\n",
    "\t\t\t\n",
    "\t\t\t//Geometry object is the parent class to many objects such as curve, edge, face, mesh, point, polyline etc\n",
    "\t\t\tGeometryObject geomObj = e.GetGeometryObjectFromReference(myRef);\n",
    "\t\t\t\n",
    "\t\t\t//Cast the geometry onject to a edge \n",
    "\t\t\tFace face = geomObj as Face;\n",
    "\t\t\t\n",
    "\t\t\tTaskDialog.Show(\"Element Info\", e.Name + Environment.NewLine + e.Id + Environment.NewLine + face.Area);\n",
    "\t\t}"
   ]
  },
  {
   "cell_type": "markdown",
   "metadata": {},
   "source": [
    "1.4 Selection - getting and setting selected elements"
   ]
  },
  {
   "cell_type": "raw",
   "metadata": {},
   "source": [
    "\t\tpublic void S1_4_1_setSelectElements()\n",
    "\t\t{\n",
    "\t\t\tDocument doc = Document;\n",
    "\t\t\tUIDocument uidoc = new UIDocument(doc);\n",
    "\t\t\tICollection<ElementId> walls  = new FilteredElementCollector(doc).OfClass(typeof(Wall)).ToElementIds();\n",
    "\t\t\tuidoc.Selection.SetElementIds(walls);\n",
    "\t\t}"
   ]
  },
  {
   "cell_type": "raw",
   "metadata": {},
   "source": [
    "\t\tpublic void S1_4_2_selectedElements()\n",
    "\t\t{\n",
    "\t\t\tDocument doc = Document;\n",
    "\t\t\tUIDocument uidoc = new UIDocument(doc);\n",
    "\t\t\tICollection<ElementId> selectedIds = uidoc.Selection.GetElementIds();\n",
    "\t\t\tstring s = \"\";\n",
    "\t\t\tforeach (ElementId id in selectedIds)\n",
    "\t\t\t{\n",
    "\t\t\t\tElement e = doc.GetElement(id);\n",
    "\t\t\t\ts += e.Name + Environment.NewLine;\n",
    "\t\t\t}\n",
    "\t\t\tTaskDialog.Show(\"Elements\", selectedIds.Count + Environment.NewLine + s);"
   ]
  },
  {
   "cell_type": "markdown",
   "metadata": {},
   "source": [
    "1.5 Find elements - Filtered element collector 1"
   ]
  },
  {
   "cell_type": "code",
   "execution_count": null,
   "metadata": {},
   "outputs": [],
   "source": []
  },
  {
   "cell_type": "markdown",
   "metadata": {},
   "source": [
    "1.6  Find elements - Filtered element collector 2"
   ]
  },
  {
   "cell_type": "code",
   "execution_count": null,
   "metadata": {},
   "outputs": [],
   "source": []
  },
  {
   "cell_type": "markdown",
   "metadata": {},
   "source": [
    "1.7 Find elements - LINQ queries"
   ]
  },
  {
   "cell_type": "code",
   "execution_count": null,
   "metadata": {},
   "outputs": [],
   "source": []
  },
  {
   "cell_type": "markdown",
   "metadata": {},
   "source": [
    "1.8 Find drafting views that contain a CAD link"
   ]
  },
  {
   "cell_type": "code",
   "execution_count": null,
   "metadata": {},
   "outputs": [],
   "source": []
  },
  {
   "cell_type": "markdown",
   "metadata": {},
   "source": [
    "1.9 Create an external command"
   ]
  },
  {
   "cell_type": "code",
   "execution_count": null,
   "metadata": {},
   "outputs": [],
   "source": []
  },
  {
   "cell_type": "markdown",
   "metadata": {},
   "source": [
    "1.10 Family types and parameters"
   ]
  },
  {
   "cell_type": "code",
   "execution_count": null,
   "metadata": {},
   "outputs": [],
   "source": []
  },
  {
   "cell_type": "markdown",
   "metadata": {},
   "source": [
    "1.11 Get line length and convert units"
   ]
  },
  {
   "cell_type": "code",
   "execution_count": null,
   "metadata": {},
   "outputs": [],
   "source": []
  }
 ],
 "metadata": {
  "kernelspec": {
   "display_name": "Python 3",
   "language": "python",
   "name": "python3"
  },
  "language_info": {
   "codemirror_mode": {
    "name": "ipython",
    "version": 3
   },
   "file_extension": ".py",
   "mimetype": "text/x-python",
   "name": "python",
   "nbconvert_exporter": "python",
   "pygments_lexer": "ipython3",
   "version": "3.8.5"
  }
 },
 "nbformat": 4,
 "nbformat_minor": 4
}

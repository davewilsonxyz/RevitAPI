{
 "cells": [
  {
   "cell_type": "markdown",
   "metadata": {},
   "source": [
    "Coord Mapper"
   ]
  },
  {
   "cell_type": "markdown",
   "metadata": {},
   "source": [
    "Need to go back over the basic set up and set up the file correctly. "
   ]
  },
  {
   "cell_type": "raw",
   "metadata": {},
   "source": [
    "This is from the SDK\n",
    "\n",
    "public void ShowActiveProjectLocationUsage(Autodesk.Revit.DB.Document document)\n",
    "{\n",
    "    // Get the project location handle \n",
    "    ProjectLocation projectLocation = document.ActiveProjectLocation;\n",
    "\n",
    "    // Show the information of current project location\n",
    "    XYZ origin = new XYZ(0, 0, 0);\n",
    "    ProjectPosition position = projectLocation.GetProjectPosition(origin);\n",
    "    if (null == position)\n",
    "    {\n",
    "        throw new Exception(\"No project position in origin point.\");\n",
    "    }\n",
    "\n",
    "    // Format the prompt string to show the message.\n",
    "    String prompt = \"Current project location information:\\n\";\n",
    "    prompt += \"\\n\\t\" + \"Origin point position:\";\n",
    "    prompt += \"\\n\\t\\t\" + \"Angle: \" + position.Angle;\n",
    "    prompt += \"\\n\\t\\t\" + \"East to West offset: \" + position.EastWest;\n",
    "    prompt += \"\\n\\t\\t\" + \"Elevation: \" + position.Elevation;\n",
    "    prompt += \"\\n\\t\\t\" + \"North to South offset: \" + position.NorthSouth;\n",
    "\n",
    "    // Angles are in radians when coming from Revit API, so we \n",
    "    // convert to degrees for display\n",
    "    const double angleRatio = Math.PI / 180;   // angle conversion factor\n",
    "\n",
    "    SiteLocation site = projectLocation.GetSiteLocation();\n",
    "    prompt += \"\\n\\t\" + \"Site location:\";\n",
    "    prompt += \"\\n\\t\\t\" + \"Latitude: \" + site.Latitude / angleRatio + \"��\";\n",
    "    prompt += \"\\n\\t\\t\" + \"Longitude: \" + site.Longitude / angleRatio + \"��\";\n",
    "    prompt += \"\\n\\t\\t\" + \"TimeZone: \" + site.TimeZone;\n",
    "\n",
    "    // Give the user some information\n",
    "    TaskDialog.Show(\"Revit\",prompt);\n"
   ]
  },
  {
   "cell_type": "markdown",
   "metadata": {},
   "source": [
    "Building Coder [Link](https://thebuildingcoder.typepad.com/blog/2017/05/finding-the-right-project-location.html)"
   ]
  },
  {
   "cell_type": "code",
   "execution_count": null,
   "metadata": {},
   "outputs": [],
   "source": []
  }
 ],
 "metadata": {
  "kernelspec": {
   "display_name": "Python 3",
   "language": "python",
   "name": "python3"
  },
  "language_info": {
   "codemirror_mode": {
    "name": "ipython",
    "version": 3
   },
   "file_extension": ".py",
   "mimetype": "text/x-python",
   "name": "python",
   "nbconvert_exporter": "python",
   "pygments_lexer": "ipython3",
   "version": "3.8.5"
  }
 },
 "nbformat": 4,
 "nbformat_minor": 4
}
